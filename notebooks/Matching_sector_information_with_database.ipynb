{
 "cells": [
  {
   "cell_type": "code",
   "execution_count": 1,
   "id": "291f1378",
   "metadata": {},
   "outputs": [],
   "source": [
    "import sys\n",
    "sys.path.append('../scripts')\n",
    "import re\n",
    "import os\n",
    "import pandas as pd\n",
    "\n",
    "from preprocessing import *"
   ]
  },
  {
   "cell_type": "code",
   "execution_count": 2,
   "id": "035c2085",
   "metadata": {},
   "outputs": [],
   "source": [
    "df = pd.read_csv(r'../data/external/company_list_from_excel.csv')"
   ]
  },
  {
   "cell_type": "code",
   "execution_count": 3,
   "id": "be1a1fa4",
   "metadata": {},
   "outputs": [
    {
     "data": {
      "text/html": [
       "<div>\n",
       "<style scoped>\n",
       "    .dataframe tbody tr th:only-of-type {\n",
       "        vertical-align: middle;\n",
       "    }\n",
       "\n",
       "    .dataframe tbody tr th {\n",
       "        vertical-align: top;\n",
       "    }\n",
       "\n",
       "    .dataframe thead th {\n",
       "        text-align: right;\n",
       "    }\n",
       "</style>\n",
       "<table border=\"1\" class=\"dataframe\">\n",
       "  <thead>\n",
       "    <tr style=\"text-align: right;\">\n",
       "      <th></th>\n",
       "      <th>company</th>\n",
       "      <th>industry</th>\n",
       "      <th>sector</th>\n",
       "    </tr>\n",
       "  </thead>\n",
       "  <tbody>\n",
       "    <tr>\n",
       "      <th>0</th>\n",
       "      <td>Amcor PLC</td>\n",
       "      <td>Containers &amp; Packaging</td>\n",
       "      <td>Resource Transformation</td>\n",
       "    </tr>\n",
       "    <tr>\n",
       "      <th>1</th>\n",
       "      <td>Atlantica Sustainable Infrastructure PLC</td>\n",
       "      <td>Electric Utilities &amp; Power Generators</td>\n",
       "      <td>Infrastructure</td>\n",
       "    </tr>\n",
       "    <tr>\n",
       "      <th>2</th>\n",
       "      <td>BAE Systems PLC</td>\n",
       "      <td>Aerospace &amp; Defense</td>\n",
       "      <td>Resource Transformation</td>\n",
       "    </tr>\n",
       "    <tr>\n",
       "      <th>3</th>\n",
       "      <td>Barclays PLC</td>\n",
       "      <td>Commercial Banks</td>\n",
       "      <td>Financials</td>\n",
       "    </tr>\n",
       "    <tr>\n",
       "      <th>4</th>\n",
       "      <td>BP PLC</td>\n",
       "      <td>Oil &amp; Gas – Exploration &amp; Production</td>\n",
       "      <td>Extractives &amp; Minerals Processing</td>\n",
       "    </tr>\n",
       "  </tbody>\n",
       "</table>\n",
       "</div>"
      ],
      "text/plain": [
       "                                    company  \\\n",
       "0                                 Amcor PLC   \n",
       "1  Atlantica Sustainable Infrastructure PLC   \n",
       "2                           BAE Systems PLC   \n",
       "3                              Barclays PLC   \n",
       "4                                    BP PLC   \n",
       "\n",
       "                                industry                             sector  \n",
       "0                 Containers & Packaging            Resource Transformation  \n",
       "1  Electric Utilities & Power Generators                     Infrastructure  \n",
       "2                    Aerospace & Defense            Resource Transformation  \n",
       "3                       Commercial Banks                         Financials  \n",
       "4   Oil & Gas – Exploration & Production  Extractives & Minerals Processing  "
      ]
     },
     "execution_count": 3,
     "metadata": {},
     "output_type": "execute_result"
    }
   ],
   "source": [
    "df = df.drop_duplicates(ignore_index=True)\n",
    "df.head()"
   ]
  },
  {
   "cell_type": "code",
   "execution_count": 4,
   "id": "35a8e4d8",
   "metadata": {},
   "outputs": [],
   "source": [
    "dir_2019 = '../data/raw/annual_reports/2019'\n",
    "dir_2020 = '../data/raw/annual_reports/2020'\n",
    "\n",
    "dir_list = [dir_2019,dir_2020]\n",
    "\n",
    "companies=[]\n",
    "for directory in dir_list:\n",
    "    for filename in os.listdir(directory):\n",
    "        if filename.endswith(\".pdf\"):\n",
    "            company = ' '.join(filename.split('_Annual_Report_')[0].split('_'))\n",
    "            companies.append(company)       "
   ]
  },
  {
   "cell_type": "markdown",
   "id": "4d8e67ea",
   "metadata": {},
   "source": [
    "Check if company in a PDF in our list of directories"
   ]
  },
  {
   "cell_type": "code",
   "execution_count": 5,
   "id": "60324874",
   "metadata": {},
   "outputs": [],
   "source": [
    "pattern = '|'.join((companies))\n",
    "# print(pattern)\n",
    "df['TF'] = df.company.str.contains(pattern, regex=True)"
   ]
  },
  {
   "cell_type": "code",
   "execution_count": 6,
   "id": "07922fda",
   "metadata": {},
   "outputs": [],
   "source": [
    "df['TF'] = df.company.str.contains(pattern)\n"
   ]
  },
  {
   "cell_type": "code",
   "execution_count": 7,
   "id": "591670f1",
   "metadata": {},
   "outputs": [],
   "source": [
    "df['company'] = df[\"company\"].str.split(\"PLC\").str[0].str.split(\"_\").str[0]"
   ]
  },
  {
   "cell_type": "code",
   "execution_count": 8,
   "id": "cae27263",
   "metadata": {},
   "outputs": [
    {
     "data": {
      "text/html": [
       "<div>\n",
       "<style scoped>\n",
       "    .dataframe tbody tr th:only-of-type {\n",
       "        vertical-align: middle;\n",
       "    }\n",
       "\n",
       "    .dataframe tbody tr th {\n",
       "        vertical-align: top;\n",
       "    }\n",
       "\n",
       "    .dataframe thead th {\n",
       "        text-align: right;\n",
       "    }\n",
       "</style>\n",
       "<table border=\"1\" class=\"dataframe\">\n",
       "  <thead>\n",
       "    <tr style=\"text-align: right;\">\n",
       "      <th></th>\n",
       "      <th>company</th>\n",
       "      <th>industry</th>\n",
       "      <th>sector</th>\n",
       "      <th>TF</th>\n",
       "    </tr>\n",
       "  </thead>\n",
       "  <tbody>\n",
       "    <tr>\n",
       "      <th>0</th>\n",
       "      <td>Amcor</td>\n",
       "      <td>Containers &amp; Packaging</td>\n",
       "      <td>Resource Transformation</td>\n",
       "      <td>True</td>\n",
       "    </tr>\n",
       "    <tr>\n",
       "      <th>1</th>\n",
       "      <td>Atlantica Sustainable Infrastructure</td>\n",
       "      <td>Electric Utilities &amp; Power Generators</td>\n",
       "      <td>Infrastructure</td>\n",
       "      <td>False</td>\n",
       "    </tr>\n",
       "    <tr>\n",
       "      <th>2</th>\n",
       "      <td>BAE Systems</td>\n",
       "      <td>Aerospace &amp; Defense</td>\n",
       "      <td>Resource Transformation</td>\n",
       "      <td>True</td>\n",
       "    </tr>\n",
       "    <tr>\n",
       "      <th>3</th>\n",
       "      <td>Barclays</td>\n",
       "      <td>Commercial Banks</td>\n",
       "      <td>Financials</td>\n",
       "      <td>True</td>\n",
       "    </tr>\n",
       "    <tr>\n",
       "      <th>4</th>\n",
       "      <td>BP</td>\n",
       "      <td>Oil &amp; Gas – Exploration &amp; Production</td>\n",
       "      <td>Extractives &amp; Minerals Processing</td>\n",
       "      <td>True</td>\n",
       "    </tr>\n",
       "  </tbody>\n",
       "</table>\n",
       "</div>"
      ],
      "text/plain": [
       "                                 company  \\\n",
       "0                                 Amcor    \n",
       "1  Atlantica Sustainable Infrastructure    \n",
       "2                           BAE Systems    \n",
       "3                              Barclays    \n",
       "4                                    BP    \n",
       "\n",
       "                                industry                             sector  \\\n",
       "0                 Containers & Packaging            Resource Transformation   \n",
       "1  Electric Utilities & Power Generators                     Infrastructure   \n",
       "2                    Aerospace & Defense            Resource Transformation   \n",
       "3                       Commercial Banks                         Financials   \n",
       "4   Oil & Gas – Exploration & Production  Extractives & Minerals Processing   \n",
       "\n",
       "      TF  \n",
       "0   True  \n",
       "1  False  \n",
       "2   True  \n",
       "3   True  \n",
       "4   True  "
      ]
     },
     "execution_count": 8,
     "metadata": {},
     "output_type": "execute_result"
    }
   ],
   "source": [
    "df.head()"
   ]
  },
  {
   "cell_type": "code",
   "execution_count": 9,
   "id": "f8da6869",
   "metadata": {},
   "outputs": [],
   "source": [
    "df=df[df.TF]\n",
    "df=df.drop(columns=['TF'])"
   ]
  },
  {
   "cell_type": "code",
   "execution_count": 10,
   "id": "462df54c",
   "metadata": {},
   "outputs": [
    {
     "data": {
      "text/html": [
       "<div>\n",
       "<style scoped>\n",
       "    .dataframe tbody tr th:only-of-type {\n",
       "        vertical-align: middle;\n",
       "    }\n",
       "\n",
       "    .dataframe tbody tr th {\n",
       "        vertical-align: top;\n",
       "    }\n",
       "\n",
       "    .dataframe thead th {\n",
       "        text-align: right;\n",
       "    }\n",
       "</style>\n",
       "<table border=\"1\" class=\"dataframe\">\n",
       "  <thead>\n",
       "    <tr style=\"text-align: right;\">\n",
       "      <th></th>\n",
       "      <th>company</th>\n",
       "      <th>industry</th>\n",
       "      <th>sector</th>\n",
       "    </tr>\n",
       "  </thead>\n",
       "  <tbody>\n",
       "    <tr>\n",
       "      <th>0</th>\n",
       "      <td>Amcor</td>\n",
       "      <td>Containers &amp; Packaging</td>\n",
       "      <td>Resource Transformation</td>\n",
       "    </tr>\n",
       "    <tr>\n",
       "      <th>2</th>\n",
       "      <td>BAE Systems</td>\n",
       "      <td>Aerospace &amp; Defense</td>\n",
       "      <td>Resource Transformation</td>\n",
       "    </tr>\n",
       "    <tr>\n",
       "      <th>3</th>\n",
       "      <td>Barclays</td>\n",
       "      <td>Commercial Banks</td>\n",
       "      <td>Financials</td>\n",
       "    </tr>\n",
       "    <tr>\n",
       "      <th>4</th>\n",
       "      <td>BP</td>\n",
       "      <td>Oil &amp; Gas – Exploration &amp; Production</td>\n",
       "      <td>Extractives &amp; Minerals Processing</td>\n",
       "    </tr>\n",
       "    <tr>\n",
       "      <th>5</th>\n",
       "      <td>British American Tobacco</td>\n",
       "      <td>Tobacco</td>\n",
       "      <td>Food &amp; Beverage</td>\n",
       "    </tr>\n",
       "  </tbody>\n",
       "</table>\n",
       "</div>"
      ],
      "text/plain": [
       "                     company                              industry  \\\n",
       "0                     Amcor                 Containers & Packaging   \n",
       "2               BAE Systems                    Aerospace & Defense   \n",
       "3                  Barclays                       Commercial Banks   \n",
       "4                        BP   Oil & Gas – Exploration & Production   \n",
       "5  British American Tobacco                                Tobacco   \n",
       "\n",
       "                              sector  \n",
       "0            Resource Transformation  \n",
       "2            Resource Transformation  \n",
       "3                         Financials  \n",
       "4  Extractives & Minerals Processing  \n",
       "5                    Food & Beverage  "
      ]
     },
     "execution_count": 10,
     "metadata": {},
     "output_type": "execute_result"
    }
   ],
   "source": [
    "df.head()"
   ]
  },
  {
   "cell_type": "code",
   "execution_count": 11,
   "id": "5f174f88",
   "metadata": {},
   "outputs": [
    {
     "data": {
      "text/html": [
       "<div>\n",
       "<style scoped>\n",
       "    .dataframe tbody tr th:only-of-type {\n",
       "        vertical-align: middle;\n",
       "    }\n",
       "\n",
       "    .dataframe tbody tr th {\n",
       "        vertical-align: top;\n",
       "    }\n",
       "\n",
       "    .dataframe thead th {\n",
       "        text-align: right;\n",
       "    }\n",
       "</style>\n",
       "<table border=\"1\" class=\"dataframe\">\n",
       "  <thead>\n",
       "    <tr style=\"text-align: right;\">\n",
       "      <th></th>\n",
       "      <th>company</th>\n",
       "      <th>industry</th>\n",
       "      <th>sector</th>\n",
       "    </tr>\n",
       "  </thead>\n",
       "  <tbody>\n",
       "    <tr>\n",
       "      <th>count</th>\n",
       "      <td>41</td>\n",
       "      <td>41</td>\n",
       "      <td>41</td>\n",
       "    </tr>\n",
       "    <tr>\n",
       "      <th>unique</th>\n",
       "      <td>41</td>\n",
       "      <td>22</td>\n",
       "      <td>10</td>\n",
       "    </tr>\n",
       "    <tr>\n",
       "      <th>top</th>\n",
       "      <td>Network Rail</td>\n",
       "      <td>Electric Utilities &amp; Power Generators</td>\n",
       "      <td>Infrastructure</td>\n",
       "    </tr>\n",
       "    <tr>\n",
       "      <th>freq</th>\n",
       "      <td>1</td>\n",
       "      <td>6</td>\n",
       "      <td>9</td>\n",
       "    </tr>\n",
       "  </tbody>\n",
       "</table>\n",
       "</div>"
      ],
      "text/plain": [
       "             company                               industry          sector\n",
       "count             41                                     41              41\n",
       "unique            41                                     22              10\n",
       "top     Network Rail  Electric Utilities & Power Generators  Infrastructure\n",
       "freq               1                                      6               9"
      ]
     },
     "execution_count": 11,
     "metadata": {},
     "output_type": "execute_result"
    }
   ],
   "source": [
    "df.describe()"
   ]
  },
  {
   "cell_type": "code",
   "execution_count": 12,
   "id": "a7a7484b",
   "metadata": {},
   "outputs": [],
   "source": [
    "df.to_csv(r'../data/external/companies_industries_sectors.csv', index=False)"
   ]
  }
 ],
 "metadata": {
  "kernelspec": {
   "display_name": "Python 3 (ipykernel)",
   "language": "python",
   "name": "python3"
  },
  "language_info": {
   "codemirror_mode": {
    "name": "ipython",
    "version": 3
   },
   "file_extension": ".py",
   "mimetype": "text/x-python",
   "name": "python",
   "nbconvert_exporter": "python",
   "pygments_lexer": "ipython3",
   "version": "3.8.10"
  }
 },
 "nbformat": 4,
 "nbformat_minor": 5
}
