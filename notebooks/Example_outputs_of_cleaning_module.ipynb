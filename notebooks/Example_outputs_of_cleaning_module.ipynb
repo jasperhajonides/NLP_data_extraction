{
 "cells": [
  {
   "cell_type": "markdown",
   "id": "2d4fb450-3927-4992-a999-fe96af9d8de8",
   "metadata": {},
   "source": [
    "# Example usage of cleaning.py"
   ]
  },
  {
   "cell_type": "code",
   "execution_count": 1,
   "id": "84afa94a",
   "metadata": {},
   "outputs": [],
   "source": [
    "import sys\n",
    "sys.path.append('../scripts')\n",
    "\n",
    "import os\n",
    "from tqdm import tqdm\n",
    "import cleaning"
   ]
  },
  {
   "cell_type": "code",
   "execution_count": 2,
   "id": "3587296b-c512-40d6-a859-36909b2079e4",
   "metadata": {},
   "outputs": [
    {
     "name": "stderr",
     "output_type": "stream",
     "text": [
      "100%|███████████████████████████████████████████| 80/80 [02:20<00:00,  1.76s/it]"
     ]
    },
    {
     "name": "stdout",
     "output_type": "stream",
     "text": [
      "All cleaning ok!\n"
     ]
    },
    {
     "name": "stderr",
     "output_type": "stream",
     "text": [
      "\n"
     ]
    }
   ],
   "source": [
    "directory = r'../data/raw/annual_reports/2020'\n",
    "\n",
    "for filename in tqdm(os.listdir(directory)):\n",
    "    if filename.endswith('.pdf'):\n",
    "        path = directory + '/' + filename\n",
    "        parsed_file = cleaning.parse_file(path)\n",
    "        clean_file = cleaning.toy_clean(parsed_file, table_contents=True)\n",
    "    \n",
    "print('All cleaning ok!')"
   ]
  },
  {
   "cell_type": "markdown",
   "id": "e1b733d7-caa5-42e9-9db6-d021f110961c",
   "metadata": {
    "tags": []
   },
   "source": [
    "## Example with Microsoft"
   ]
  },
  {
   "cell_type": "code",
   "execution_count": 3,
   "id": "0efe1544-0162-403c-a631-d3fcc8d9f3fb",
   "metadata": {},
   "outputs": [],
   "source": [
    "Microsoft_path = \"../data/raw/annual_reports/2020/Microsoft_Annual_Report_2020.pdf\""
   ]
  },
  {
   "cell_type": "markdown",
   "id": "33415496-19c1-4390-a0e4-b871bf341051",
   "metadata": {},
   "source": [
    "### Example of parsed output"
   ]
  },
  {
   "cell_type": "code",
   "execution_count": 4,
   "id": "f9781909",
   "metadata": {
    "tags": []
   },
   "outputs": [
    {
     "data": {
      "text/plain": [
       "[' \\n',\n",
       " '33 \\n',\n",
       " ' \\n',\n",
       " '• \\nGaming revenue increased $1.0 billion or 10%, driven by Xbox software and services growth of 19%, primarily \\ndue to third-party title strength and subscriptions growth, offset in part by a decline in Xbox hardware of 13% \\nprimarily due to a decrease in volume of consoles sold.  \\n',\n",
       " '• \\nSearch advertising revenue increased $616 million or 9%. Search advertising revenue, excluding traffic \\nacquisition costs, increased 13%, driven by higher revenue per search.  \\n',\n",
       " 'Operating income increased $2.2 billion or 21%, including an unfavorable foreign currency impact of 2%.  \\n',\n",
       " '• \\nGross margin increased $2.0 billion or 9%, driven by growth in Windows, Gaming, and Search. Gross margin \\npercentage increased slightly, due to sales mix shift to higher gross margin businesses in Windows and  \\nGaming.  \\n',\n",
       " '• \\nOperating expenses decreased $172 million or 1%.  \\n',\n",
       " 'OPERATING EXPENSES  \\n',\n",
       " 'Research and Development  \\n  \\n',\n",
       " '(In millions, except percentages) \\n2020 \\n2019 \\n2018 \\n',\n",
       " 'Percentage \\n',\n",
       " 'Change 2020 \\nVersus 2019 \\n',\n",
       " 'Percentage \\n',\n",
       " 'Change 2019 \\nVersus 2018 \\n',\n",
       " ' \\n',\n",
       " ' \\n \\n \\n \\n \\n \\n',\n",
       " 'Research and development \\n$   19,269 \\n$   16,876 \\n$   14,726 \\n14% \\n15% \\n',\n",
       " 'As a percent of revenue \\n13% \\n13% \\n13% \\n0ppt \\n0ppt \\n',\n",
       " '  \\n',\n",
       " 'Research and development expenses include payroll, employee benefits, stock-based compensation expense, and other \\nheadcount-related expenses associated with product development. Research and development expenses also include third -\\nparty development and programming costs, localization costs incurred to translate software for international markets, and \\nthe amortization of purchased software code and services content.  \\n',\n",
       " 'Fiscal Year 2020 Compared with Fiscal Year 2019  \\n',\n",
       " 'Research and development expenses increased $2.4 billion or 14%, driven by investments in cloud engineering, LinkedIn, \\nDevices, and Gaming.  \\n',\n",
       " 'Fiscal Year 2019 Compared with Fiscal Year 2018  \\n',\n",
       " 'Research and development expenses increased $2.2 billion or 15%, driven by investments in cloud and AI engineering, \\nGaming, LinkedIn, and GitHub.  \\n',\n",
       " 'Sales and Marketing  \\n  \\n',\n",
       " '(In millions, except percentages) \\n2020 \\n2019 \\n2018 \\n',\n",
       " 'Percentage \\n',\n",
       " 'Change 2020 \\nVersus 2019 \\n',\n",
       " 'Percentage \\n',\n",
       " 'Change 2019 \\nVersus 2018 \\n',\n",
       " ' \\n',\n",
       " ' \\n \\n \\n \\n \\n \\n',\n",
       " 'Sales and marketing \\n$   19,598 \\n$   18,213 \\n$   17,469 \\n8% \\n4% \\n',\n",
       " 'As a percent of revenue \\n14% \\n14% \\n16% \\n0ppt \\n(2)ppt \\n',\n",
       " '  \\n',\n",
       " 'Sales and marketing expenses include payroll, employee benefits, stock-based compensation expense, and other \\nheadcount-related expenses associated with sales and marketing personnel, and the costs of advertising, promotions, trade \\nshows, seminars, and other programs.  \\n',\n",
       " 'Fiscal Year 2020 Compared with Fiscal Year 2019  \\n',\n",
       " 'Sales and marketing expenses increased $1.4 billion or 8%, driven by investments in LinkedIn and commercial sales, and \\nan increase in bad debt expense.  \\n']"
      ]
     },
     "execution_count": 4,
     "metadata": {},
     "output_type": "execute_result"
    }
   ],
   "source": [
    "Microsoft = cleaning.parse_file(Microsoft_path)\n",
    "Microsoft[34]"
   ]
  },
  {
   "cell_type": "markdown",
   "id": "35e44f49-16bf-41c2-92fa-bdf11a9b87d9",
   "metadata": {},
   "source": [
    "### Example of output without tables"
   ]
  },
  {
   "cell_type": "code",
   "execution_count": 5,
   "id": "ebcafcc2-d446-40bd-942b-c1cb2de3c044",
   "metadata": {},
   "outputs": [
    {
     "data": {
      "text/plain": [
       "[' ',\n",
       " '33 ',\n",
       " ' ',\n",
       " '• Gaming revenue increased $1.0 billion or 10%, driven by Xbox software and services growth of 19%, primarily due to third-party title strength and subscriptions growth, offset in part by a decline in Xbox hardware of 13% primarily due to a decrease in volume of consoles sold. ',\n",
       " '• Search advertising revenue increased $616 million or 9%. Search advertising revenue, excluding traffic acquisition costs, increased 13%, driven by higher revenue per search. ',\n",
       " 'Operating income increased $2.2 billion or 21%, including an unfavorable foreign currency impact of 2%. ',\n",
       " '• Gross margin increased $2.0 billion or 9%, driven by growth in Windows, Gaming, and Search. Gross margin percentage increased slightly, due to sales mix shift to higher gross margin businesses in Windows and Gaming. ',\n",
       " '• Operating expenses decreased $172 million or 1%. ',\n",
       " 'OPERATING EXPENSES ',\n",
       " 'Research and Development ',\n",
       " 'Percentage ',\n",
       " 'Change 2020 Versus 2019 ',\n",
       " 'Percentage ',\n",
       " 'Change 2019 Versus 2018 ',\n",
       " ' ',\n",
       " 'Research and development $ 19,269 $ 16,876 $ 14,726 14% 15% ',\n",
       " ' ',\n",
       " 'Research and development expenses include payroll, employee benefits, stock-based compensation expense, and other headcount-related expenses associated with product development. Research and development expenses also include third - party development and programming costs, localization costs incurred to translate software for international markets, and the amortization of purchased software code and services content. ',\n",
       " 'Fiscal Year 2020 Compared with Fiscal Year 2019 ',\n",
       " 'Research and development expenses increased $2.4 billion or 14%, driven by investments in cloud engineering, LinkedIn, Devices, and Gaming. ',\n",
       " 'Fiscal Year 2019 Compared with Fiscal Year 2018 ',\n",
       " 'Research and development expenses increased $2.2 billion or 15%, driven by investments in cloud and AI engineering, Gaming, LinkedIn, and GitHub. ',\n",
       " 'Sales and Marketing ',\n",
       " 'Percentage ',\n",
       " 'Change 2020 Versus 2019 ',\n",
       " 'Percentage ',\n",
       " 'Change 2019 Versus 2018 ',\n",
       " ' ',\n",
       " 'Sales and marketing $ 19,598 $ 18,213 $ 17,469 8% 4% ',\n",
       " ' ',\n",
       " 'Sales and marketing expenses include payroll, employee benefits, stock-based compensation expense, and other headcount-related expenses associated with sales and marketing personnel, and the costs of advertising, promotions, trade shows, seminars, and other programs. ',\n",
       " 'Fiscal Year 2020 Compared with Fiscal Year 2019 ',\n",
       " 'Sales and marketing expenses increased $1.4 billion or 8%, driven by investments in LinkedIn and commercial sales, and an increase in bad debt expense. ']"
      ]
     },
     "execution_count": 5,
     "metadata": {},
     "output_type": "execute_result"
    }
   ],
   "source": [
    "Microsoft_clean = cleaning.toy_clean(Microsoft) \n",
    "Microsoft_clean[34]"
   ]
  },
  {
   "cell_type": "markdown",
   "id": "da23f4f7-c34f-4cf4-82bc-3e0f21d9e6f9",
   "metadata": {},
   "source": [
    "### Example of output with tables"
   ]
  },
  {
   "cell_type": "code",
   "execution_count": 6,
   "id": "6c71918a-6d42-4782-88b7-b8782ea3d807",
   "metadata": {},
   "outputs": [
    {
     "data": {
      "text/plain": [
       "[' ',\n",
       " '33 ',\n",
       " ' ',\n",
       " '• Gaming revenue increased $1.0 billion or 10%, driven by Xbox software and services growth of 19%, primarily due to third-party title strength and subscriptions growth, offset in part by a decline in Xbox hardware of 13% primarily due to a decrease in volume of consoles sold. ',\n",
       " '• Search advertising revenue increased $616 million or 9%. Search advertising revenue, excluding traffic acquisition costs, increased 13%, driven by higher revenue per search. ',\n",
       " 'Operating income increased $2.2 billion or 21%, including an unfavorable foreign currency impact of 2%. ',\n",
       " '• Gross margin increased $2.0 billion or 9%, driven by growth in Windows, Gaming, and Search. Gross margin percentage increased slightly, due to sales mix shift to higher gross margin businesses in Windows and Gaming. ',\n",
       " '• Operating expenses decreased $172 million or 1%. ',\n",
       " 'OPERATING EXPENSES ',\n",
       " 'Research and Development ',\n",
       " '<TABLE 16: >',\n",
       " 'Percentage ',\n",
       " 'Change 2020 Versus 2019 ',\n",
       " 'Percentage ',\n",
       " 'Change 2019 Versus 2018 ',\n",
       " ' ',\n",
       " '<TABLE 17: >',\n",
       " 'Research and development $ 19,269 $ 16,876 $ 14,726 14% 15% ',\n",
       " '<TABLE 18: As a percent of revenue>',\n",
       " ' ',\n",
       " 'Research and development expenses include payroll, employee benefits, stock-based compensation expense, and other headcount-related expenses associated with product development. Research and development expenses also include third - party development and programming costs, localization costs incurred to translate software for international markets, and the amortization of purchased software code and services content. ',\n",
       " 'Fiscal Year 2020 Compared with Fiscal Year 2019 ',\n",
       " 'Research and development expenses increased $2.4 billion or 14%, driven by investments in cloud engineering, LinkedIn, Devices, and Gaming. ',\n",
       " 'Fiscal Year 2019 Compared with Fiscal Year 2018 ',\n",
       " 'Research and development expenses increased $2.2 billion or 15%, driven by investments in cloud and AI engineering, Gaming, LinkedIn, and GitHub. ',\n",
       " 'Sales and Marketing ',\n",
       " '<TABLE 19: >',\n",
       " 'Percentage ',\n",
       " 'Change 2020 Versus 2019 ',\n",
       " 'Percentage ',\n",
       " 'Change 2019 Versus 2018 ',\n",
       " ' ',\n",
       " '<TABLE 20: >',\n",
       " 'Sales and marketing $ 19,598 $ 18,213 $ 17,469 8% 4% ',\n",
       " '<TABLE 21: As a percent of revenue>',\n",
       " ' ',\n",
       " 'Sales and marketing expenses include payroll, employee benefits, stock-based compensation expense, and other headcount-related expenses associated with sales and marketing personnel, and the costs of advertising, promotions, trade shows, seminars, and other programs. ',\n",
       " 'Fiscal Year 2020 Compared with Fiscal Year 2019 ',\n",
       " 'Sales and marketing expenses increased $1.4 billion or 8%, driven by investments in LinkedIn and commercial sales, and an increase in bad debt expense. ']"
      ]
     },
     "execution_count": 6,
     "metadata": {},
     "output_type": "execute_result"
    }
   ],
   "source": [
    "Microsoft_clean_with_tables = cleaning.toy_clean(Microsoft, table_contents=True)\n",
    "Microsoft_clean_with_tables[34]"
   ]
  },
  {
   "cell_type": "markdown",
   "id": "495c189f-7fa4-41c1-bc83-2f7a3fbbf8c6",
   "metadata": {},
   "source": [
    "## Example with Just Eat"
   ]
  },
  {
   "cell_type": "code",
   "execution_count": 7,
   "id": "30f8607a-6d3d-4034-9883-75268e9ce50a",
   "metadata": {},
   "outputs": [],
   "source": [
    "Just_Eat_path = \"../data/raw/annual_reports/2020/Just_Eat_Annual_Report_2020.pdf\""
   ]
  },
  {
   "cell_type": "markdown",
   "id": "13401843-4a07-45dd-a657-65bcd318ba46",
   "metadata": {},
   "source": [
    "### Example of parsed output"
   ]
  },
  {
   "cell_type": "code",
   "execution_count": 8,
   "id": "4dc7d65d-450e-4a07-81f2-0d85ae1793e6",
   "metadata": {},
   "outputs": [],
   "source": [
    "Just_Eat = cleaning.parse_file(Just_Eat_path)"
   ]
  },
  {
   "cell_type": "code",
   "execution_count": 9,
   "id": "a0bdd954-20c6-4088-b7d3-0904f061509e",
   "metadata": {},
   "outputs": [
    {
     "data": {
      "text/plain": [
       "['Share ownership\\n',\n",
       " 'Share ownership members of the Management Board\\n',\n",
       " 'As at 31 December 2020, the Managing Directors held shares in the \\n',\n",
       " 'Company as set out below. \\n',\n",
       " 'Numbers of shares held\\n',\n",
       " 'J. Groen \\nCEO1\\nB. Wissink \\nCFO\\n',\n",
       " 'J. Gerbig \\nCOO1\\n',\n",
       " 'Numbers of shares held as at 31 December 2020 15,318,766\\n115,581\\n310,000\\n',\n",
       " '1 \\nShares are hold indirectly through personal holding \\n',\n",
       " 'Share ownership members of the Supervisory Board\\n',\n",
       " 'As at 31 December 2020, none of the Supervisory Board members held \\n',\n",
       " 'shares in the Company.\\n',\n",
       " 'Severance arrangements\\n',\n",
       " 'Contractual severance arrangements of the Managing Directors provide for \\n',\n",
       " 'compensation for the loss of income resulting from a non-voluntary \\n',\n",
       " 'termination of employment. In that situation, the severance package is \\n',\n",
       " 'equal to the sum of the six-month gross fixed base fee of the respective \\n',\n",
       " 'Managing Director. The contractual severance arrangements are compliant \\n',\n",
       " 'with the Dutch Corporate Governance Code (DCGC).\\n',\n",
       " 'During 2020, no severance payments were granted to members of the \\n',\n",
       " 'Management Board and the Supervisory Board.\\n',\n",
       " 'Payments by participating interests\\n',\n",
       " 'During 2020, no remuneration for members of the Management Board has \\n',\n",
       " 'been made at the account of any participating interest of the Company.\\n',\n",
       " ' \\n',\n",
       " 'Although we expect this ratio to increase over time, driven by the growth of \\n',\n",
       " 'the number of couriers employed, it is important for us to continuously \\n',\n",
       " 'monitor the ratio between the highest and the average paid persons within \\n',\n",
       " 'Just Eat Takeaway.com.\\n',\n",
       " 'Annual change\\n',\n",
       " '2016 vs \\n2015\\n',\n",
       " '2017 vs \\n2016\\n',\n",
       " '2018 vs \\n2017\\n',\n",
       " '2019 vs \\n2018\\n',\n",
       " '2020 vs \\n2019\\n',\n",
       " 'Information regarding the reported financial year\\n',\n",
       " 'J. Groen – CEO\\nn.a.\\n10%\\n17%\\n23%\\n58%\\n',\n",
       " 'B. Wissink – CFO\\nn.a.\\n4%\\n17%\\n28%\\n62%\\n',\n",
       " 'J. Gerbig – COO\\nn.a.\\n3%\\n18%\\n35%\\n69%\\n',\n",
       " 'Company performance\\n',\n",
       " 'Revenue\\nn.a.\\n50%\\n42%\\n79%\\n391%\\n',\n",
       " 'Adjusted EBITDA\\nn.a.\\n(51%)\\n59%\\n216%\\n1,454%\\n',\n",
       " 'Orders\\nn.a.\\n38%\\n38%\\n70%\\n228%\\n',\n",
       " 'Average remuneration on a full-time equivalent basis of employees\\n',\n",
       " 'Employees of  \\n',\n",
       " 'Just Eat Takeaway.com\\nn.a.\\n3%\\n(19%)\\n23%\\n41%\\n',\n",
       " 'The table above contains an overview over the past four years only, as the \\n',\n",
       " 'Company was not listed prior to October 2016. \\n',\n",
       " '105\\n',\n",
       " 'Just Eat Takeaway.com Annual Report 2020\\nRemuneration in 2020\\n']"
      ]
     },
     "execution_count": 9,
     "metadata": {},
     "output_type": "execute_result"
    }
   ],
   "source": [
    "Just_Eat[107]"
   ]
  },
  {
   "cell_type": "markdown",
   "id": "450e3671-eb97-4393-a65e-997347128634",
   "metadata": {},
   "source": [
    "### Example of clean output without tables (mind that we could not perfectly find all tables!)"
   ]
  },
  {
   "cell_type": "code",
   "execution_count": 10,
   "id": "5f2c146e-8452-412b-bcb5-14bceb309e5d",
   "metadata": {},
   "outputs": [],
   "source": [
    "Just_Eat_clean = cleaning.toy_clean(Just_Eat)"
   ]
  },
  {
   "cell_type": "code",
   "execution_count": 11,
   "id": "bac24b19-5c39-4475-9048-766e0111987a",
   "metadata": {},
   "outputs": [
    {
     "data": {
      "text/plain": [
       "['Share ownership ',\n",
       " 'Share ownership members of the Management Board ',\n",
       " 'As at 31 December 2020, the Managing Directors held shares in the ',\n",
       " 'Company as set out below. ',\n",
       " 'Numbers of shares held ',\n",
       " 'J. Groen CEO1 B. Wissink CFO ',\n",
       " 'J. Gerbig COO1 ',\n",
       " 'Numbers of shares held as at 31 December 2020 15,318,766 115,581 310,000 ',\n",
       " '1 Shares are hold indirectly through personal holding ',\n",
       " 'Share ownership members of the Supervisory Board ',\n",
       " 'As at 31 December 2020, none of the Supervisory Board members held ',\n",
       " 'shares in the Company. ',\n",
       " 'Severance arrangements ',\n",
       " 'Contractual severance arrangements of the Managing Directors provide for ',\n",
       " 'compensation for the loss of income resulting from a non-voluntary ',\n",
       " 'termination of employment. In that situation, the severance package is ',\n",
       " 'equal to the sum of the six-month gross fixed base fee of the respective ',\n",
       " 'Managing Director. The contractual severance arrangements are compliant ',\n",
       " 'with the Dutch Corporate Governance Code (DCGC). ',\n",
       " 'During 2020, no severance payments were granted to members of the ',\n",
       " 'Management Board and the Supervisory Board. ',\n",
       " 'Payments by participating interests ',\n",
       " 'During 2020, no remuneration for members of the Management Board has ',\n",
       " 'been made at the account of any participating interest of the Company. ',\n",
       " ' ',\n",
       " 'Although we expect this ratio to increase over time, driven by the growth of ',\n",
       " 'the number of couriers employed, it is important for us to continuously ',\n",
       " 'monitor the ratio between the highest and the average paid persons within ',\n",
       " 'Just Eat Takeaway.com. ',\n",
       " 'Annual change ',\n",
       " '2016 vs 2015 ',\n",
       " '2017 vs 2016 ',\n",
       " '2018 vs 2017 ',\n",
       " '2019 vs 2018 ',\n",
       " '2020 vs 2019 ',\n",
       " 'Information regarding the reported financial year ',\n",
       " 'Company performance ',\n",
       " 'Average remuneration on a full-time equivalent basis of employees ',\n",
       " 'Employees of ',\n",
       " 'The table above contains an overview over the past four years only, as the ',\n",
       " 'Company was not listed prior to October 2016. ',\n",
       " '105 ',\n",
       " 'Just Eat Takeaway.com Annual Report 2020 Remuneration in 2020 ']"
      ]
     },
     "execution_count": 11,
     "metadata": {},
     "output_type": "execute_result"
    }
   ],
   "source": [
    "Just_Eat_clean[107]"
   ]
  },
  {
   "cell_type": "markdown",
   "id": "1e0909e6-7f0c-44c3-8f06-494d4bc2c136",
   "metadata": {},
   "source": [
    "### Example output with tables"
   ]
  },
  {
   "cell_type": "code",
   "execution_count": 12,
   "id": "82bb836d-a581-473f-b534-6305f3f66024",
   "metadata": {},
   "outputs": [
    {
     "data": {
      "text/plain": [
       "['Share ownership ',\n",
       " 'Share ownership members of the Management Board ',\n",
       " 'As at 31 December 2020, the Managing Directors held shares in the ',\n",
       " 'Company as set out below. ',\n",
       " 'Numbers of shares held ',\n",
       " 'J. Groen CEO1 B. Wissink CFO ',\n",
       " 'J. Gerbig COO1 ',\n",
       " 'Numbers of shares held as at 31 December 2020 15,318,766 115,581 310,000 ',\n",
       " '1 Shares are hold indirectly through personal holding ',\n",
       " 'Share ownership members of the Supervisory Board ',\n",
       " 'As at 31 December 2020, none of the Supervisory Board members held ',\n",
       " 'shares in the Company. ',\n",
       " 'Severance arrangements ',\n",
       " 'Contractual severance arrangements of the Managing Directors provide for ',\n",
       " 'compensation for the loss of income resulting from a non-voluntary ',\n",
       " 'termination of employment. In that situation, the severance package is ',\n",
       " 'equal to the sum of the six-month gross fixed base fee of the respective ',\n",
       " 'Managing Director. The contractual severance arrangements are compliant ',\n",
       " 'with the Dutch Corporate Governance Code (DCGC). ',\n",
       " 'During 2020, no severance payments were granted to members of the ',\n",
       " 'Management Board and the Supervisory Board. ',\n",
       " 'Payments by participating interests ',\n",
       " 'During 2020, no remuneration for members of the Management Board has ',\n",
       " 'been made at the account of any participating interest of the Company. ',\n",
       " ' ',\n",
       " 'Although we expect this ratio to increase over time, driven by the growth of ',\n",
       " 'the number of couriers employed, it is important for us to continuously ',\n",
       " 'monitor the ratio between the highest and the average paid persons within ',\n",
       " 'Just Eat Takeaway.com. ',\n",
       " 'Annual change ',\n",
       " '2016 vs 2015 ',\n",
       " '2017 vs 2016 ',\n",
       " '2018 vs 2017 ',\n",
       " '2019 vs 2018 ',\n",
       " '2020 vs 2019 ',\n",
       " 'Information regarding the reported financial year ',\n",
       " '<TABLE 6: J. Groen – CEO n.a. B. Wissink – CFO n.a. J. Gerbig – COO n.a.>',\n",
       " 'Company performance ',\n",
       " '<TABLE 7: Revenue n.a. Adjusted EBITDA n.a. Orders n.a.>',\n",
       " 'Average remuneration on a full-time equivalent basis of employees ',\n",
       " 'Employees of ',\n",
       " '<TABLE 8: Just Eat Takeaway.com n.a.>',\n",
       " 'The table above contains an overview over the past four years only, as the ',\n",
       " 'Company was not listed prior to October 2016. ',\n",
       " '105 ',\n",
       " 'Just Eat Takeaway.com Annual Report 2020 Remuneration in 2020 ']"
      ]
     },
     "execution_count": 12,
     "metadata": {},
     "output_type": "execute_result"
    }
   ],
   "source": [
    "Just_Eat_clean_with_tables= cleaning.toy_clean(Just_Eat, table_contents=True)\n",
    "Just_Eat_clean_with_tables[107]"
   ]
  },
  {
   "cell_type": "markdown",
   "id": "b77c34e9-f301-466d-812f-ac0d0efc4f23",
   "metadata": {},
   "source": [
    "## Example with Aggreko"
   ]
  },
  {
   "cell_type": "code",
   "execution_count": 13,
   "id": "d14b74a9-64eb-414d-a5b6-6ceb18f69055",
   "metadata": {},
   "outputs": [],
   "source": [
    "Aggreko_path = \"../data/raw/annual_reports/2020/Aggreko_Annual_Report_2020.pdf\""
   ]
  },
  {
   "cell_type": "markdown",
   "id": "512ad7a4-1e21-45ec-92b6-93944fcb044d",
   "metadata": {},
   "source": [
    "### Example parsed output"
   ]
  },
  {
   "cell_type": "code",
   "execution_count": 14,
   "id": "00b8da9d-c78c-4f48-a3ec-944f63acb080",
   "metadata": {},
   "outputs": [
    {
     "data": {
      "text/plain": [
       "['Implementation of remuneration policy in 2021 \\n',\n",
       " 'Base salaries \\nChris Weston and Heath Drewett’s base salaries were reviewed by the Committee in December 2020; their salaries will remain \\nunchanged for 2021. The Committee intends to next review the salaries of both these Executive Directors in December 2021 to take \\neffect from January 2022. \\n',\n",
       " 'The base salaries for Executive Directors as at 1 January 2021 and 1 January 2020 were as follows:\\n',\n",
       " 'Executive Director\\nPosition\\n1 January 2021 \\n£\\nIncrease*  \\n%\\n1 January 2020 \\n£\\nChris Weston \\nChief Executive Officer \\n765,000\\n0\\n765,000\\nHeath Drewett\\nChief Financial Officer\\n469,200\\n0\\n469,200\\n',\n",
       " '* The average increase across the Group for 2020 was 1.6%. The majority of employees received no increase. \\n',\n",
       " 'Pensions and benefits\\nPension allowances will reduce to a rate (when expressed as a percentage of salary) no higher than the rate available to the majority \\nof colleagues either in the UK or in the jurisdiction in which the Executive resides – currently 9% for the majority of the UK workforce \\n– with effect from 1 January 2023. This transition for the incumbent Chief Executive Officer began in 2020 with Chris Weston’s \\npension reducing from 30% to 24% in 2020. Heath Drewett’s rate is currently 20% of salary. Any new Executive Director’s allowance \\nwould be set at the rate applicable to the jurisdiction in which the Executive resides. Benefits will continue in line with policy.\\n',\n",
       " 'Annual bonus\\nThe Committee set annual bonus targets for the Executive Directors as follows:\\n',\n",
       " 'Executive  \\nDirector\\n',\n",
       " 'Total max  \\nbonus  \\n% salary\\n',\n",
       " 'D-EPS growth\\nAOP*\\nPersonal \\nobjectives\\n',\n",
       " 'Max bonus        \\n% salary\\n',\n",
       " 'On-budget \\nbonus  \\n% salary\\nMax bonus \\n% salary\\n',\n",
       " 'On-budget \\nbonus \\n% salary\\nMax bonus  \\n% salary\\nChris Weston \\n175\\n96.25\\n48.125\\n43.75\\n21.875\\n35\\nHeath Drewett\\n175\\n96.25\\n48.125\\n43.75\\n21.875\\n35\\n',\n",
       " '*  Adjusted Operating Profit (AOP) is the Group’s annual operating profit figure adjusted up or down by applying a credit or charge based on the level of Net Operating Assets \\n(NOA) within the Group compared to budget. Net Operating Assets are a business’s operating assets minus its operating liabilities. \\n',\n",
       " 'The personal objectives were set individually for each Director. All include agreed outcomes for set strategic objectives specific  \\nto their role.\\n',\n",
       " 'Consistent with the Code, the Committee has appropriate discretion to adjust any formulaic result if it concludes that it is not \\nappropriate in all the circumstances. The Committee will also have regard to any safety concerns.\\n',\n",
       " 'We do not disclose full details of the personal/strategic objectives for the Executive Directors or the financial targets in this report,  \\nas we consider them to be commercially sensitive. It is, however, our intention to disclose retrospectively these targets in next year’s \\nannual report on remuneration. \\n',\n",
       " '50% of any bonus payments will be cash and 50% deferred into shares and released after three years.\\n',\n",
       " 'Restricted Stock Plan (RSP)\\n',\n",
       " 'The Committee proposes to approve the grant of 2021 RSP awards to Executive Directors with a face value of 125% of salary. For the \\n2021 RSP awards, an underpin will apply so that the Committee may reduce the vesting outturn if ROCE, revenue growth and/or \\ndelivery of the Board’s agreed strategy for the repositioning of our environmental impact is not considered by the Committee  \\nto be at an acceptable level. An assessment will be made by the Board taking into account the long-term targets we set out in \\nNovember 2020 for the next decade, with assessment of ROCE and revenue growth having regard to performance in 2019 as  \\nthe basis for such assessment.\\n',\n",
       " 'Initial awards are expected to be granted in April 2021, subject to approval of the new remuneration policy for Executive Directors  \\nat the 2021 AGM. \\n',\n",
       " 'As with the annual bonus, consistent with the Code, the Committee has appropriate discretion to adjust any formulaic result if it \\nconcludes that it is not appropriate in all the circumstances.\\n',\n",
       " 'Remuneration \\ncontinued\\n74\\n',\n",
       " 'Aggreko plc Annual Report and Accounts 2020\\n']"
      ]
     },
     "execution_count": 14,
     "metadata": {},
     "output_type": "execute_result"
    }
   ],
   "source": [
    "Aggreko = cleaning.parse_file(Aggreko_path)\n",
    "Aggreko[76]"
   ]
  },
  {
   "cell_type": "markdown",
   "id": "c8f32bff-885d-40df-a760-3a69ee610ade",
   "metadata": {},
   "source": [
    "### Example cleaned output without tables"
   ]
  },
  {
   "cell_type": "code",
   "execution_count": 15,
   "id": "7d6bf5ee-b1f7-4c98-819b-467da270505e",
   "metadata": {},
   "outputs": [
    {
     "data": {
      "text/plain": [
       "['Implementation of remuneration policy in 2021 ',\n",
       " 'Base salaries Chris Weston and Heath Drewett’s base salaries were reviewed by the Committee in December 2020; their salaries will remain unchanged for 2021. The Committee intends to next review the salaries of both these Executive Directors in December 2021 to take effect from January 2022. ',\n",
       " 'The base salaries for Executive Directors as at 1 January 2021 and 1 January 2020 were as follows: ',\n",
       " '* The average increase across the Group for 2020 was 1.6%. The majority of employees received no increase. ',\n",
       " 'Pensions and benefits Pension allowances will reduce to a rate (when expressed as a percentage of salary) no higher than the rate available to the majority of colleagues either in the UK or in the jurisdiction in which the Executive resides – currently 9% for the majority of the UK workforce – with effect from 1 January 2023. This transition for the incumbent Chief Executive Officer began in 2020 with Chris Weston’s pension reducing from 30% to 24% in 2020. Heath Drewett’s rate is currently 20% of salary. Any new Executive Director’s allowance would be set at the rate applicable to the jurisdiction in which the Executive resides. Benefits will continue in line with policy. ',\n",
       " 'Annual bonus The Committee set annual bonus targets for the Executive Directors as follows: ',\n",
       " 'Executive Director ',\n",
       " 'Total max bonus % salary ',\n",
       " 'D-EPS growth AOP* Personal objectives ',\n",
       " 'Max bonus % salary ',\n",
       " 'On-budget bonus % salary Max bonus % salary ',\n",
       " '* Adjusted Operating Profit (AOP) is the Group’s annual operating profit figure adjusted up or down by applying a credit or charge based on the level of Net Operating Assets (NOA) within the Group compared to budget. Net Operating Assets are a business’s operating assets minus its operating liabilities. ',\n",
       " 'The personal objectives were set individually for each Director. All include agreed outcomes for set strategic objectives specific to their role. ',\n",
       " 'Consistent with the Code, the Committee has appropriate discretion to adjust any formulaic result if it concludes that it is not appropriate in all the circumstances. The Committee will also have regard to any safety concerns. ',\n",
       " 'We do not disclose full details of the personal/strategic objectives for the Executive Directors or the financial targets in this report, as we consider them to be commercially sensitive. It is, however, our intention to disclose retrospectively these targets in next year’s annual report on remuneration. ',\n",
       " '50% of any bonus payments will be cash and 50% deferred into shares and released after three years. ',\n",
       " 'Restricted Stock Plan (RSP) ',\n",
       " 'The Committee proposes to approve the grant of 2021 RSP awards to Executive Directors with a face value of 125% of salary. For the 2021 RSP awards, an underpin will apply so that the Committee may reduce the vesting outturn if ROCE, revenue growth and/or delivery of the Board’s agreed strategy for the repositioning of our environmental impact is not considered by the Committee to be at an acceptable level. An assessment will be made by the Board taking into account the long-term targets we set out in November 2020 for the next decade, with assessment of ROCE and revenue growth having regard to performance in 2019 as the basis for such assessment. ',\n",
       " 'Initial awards are expected to be granted in April 2021, subject to approval of the new remuneration policy for Executive Directors at the 2021 AGM. ',\n",
       " 'As with the annual bonus, consistent with the Code, the Committee has appropriate discretion to adjust any formulaic result if it concludes that it is not appropriate in all the circumstances. ',\n",
       " 'Remuneration continued 74 ',\n",
       " 'Aggreko plc Annual Report and Accounts 2020 ']"
      ]
     },
     "execution_count": 15,
     "metadata": {},
     "output_type": "execute_result"
    }
   ],
   "source": [
    "Aggreko_clean = cleaning.toy_clean(Aggreko)\n",
    "Aggreko_clean[76]"
   ]
  },
  {
   "cell_type": "markdown",
   "id": "cb108d42-e2f5-43bc-9149-cb217bc91aa5",
   "metadata": {},
   "source": [
    "### Example cleaned output with tables"
   ]
  },
  {
   "cell_type": "code",
   "execution_count": 16,
   "id": "8ee03690-6424-4b99-80d7-14f18124a86e",
   "metadata": {},
   "outputs": [
    {
     "data": {
      "text/plain": [
       "['Implementation of remuneration policy in 2021 ',\n",
       " 'Base salaries Chris Weston and Heath Drewett’s base salaries were reviewed by the Committee in December 2020; their salaries will remain unchanged for 2021. The Committee intends to next review the salaries of both these Executive Directors in December 2021 to take effect from January 2022. ',\n",
       " 'The base salaries for Executive Directors as at 1 January 2021 and 1 January 2020 were as follows: ',\n",
       " '<TABLE 37: Executive Director Position Increase* Chris Weston Chief Executive Officer Heath Drewett Chief Financial Officer>',\n",
       " '* The average increase across the Group for 2020 was 1.6%. The majority of employees received no increase. ',\n",
       " 'Pensions and benefits Pension allowances will reduce to a rate (when expressed as a percentage of salary) no higher than the rate available to the majority of colleagues either in the UK or in the jurisdiction in which the Executive resides – currently 9% for the majority of the UK workforce – with effect from 1 January 2023. This transition for the incumbent Chief Executive Officer began in 2020 with Chris Weston’s pension reducing from 30% to 24% in 2020. Heath Drewett’s rate is currently 20% of salary. Any new Executive Director’s allowance would be set at the rate applicable to the jurisdiction in which the Executive resides. Benefits will continue in line with policy. ',\n",
       " 'Annual bonus The Committee set annual bonus targets for the Executive Directors as follows: ',\n",
       " 'Executive Director ',\n",
       " 'Total max bonus % salary ',\n",
       " 'D-EPS growth AOP* Personal objectives ',\n",
       " 'Max bonus % salary ',\n",
       " 'On-budget bonus % salary Max bonus % salary ',\n",
       " '<TABLE 38: On-budget bonus Max bonus Chris Weston Heath Drewett>',\n",
       " '* Adjusted Operating Profit (AOP) is the Group’s annual operating profit figure adjusted up or down by applying a credit or charge based on the level of Net Operating Assets (NOA) within the Group compared to budget. Net Operating Assets are a business’s operating assets minus its operating liabilities. ',\n",
       " 'The personal objectives were set individually for each Director. All include agreed outcomes for set strategic objectives specific to their role. ',\n",
       " 'Consistent with the Code, the Committee has appropriate discretion to adjust any formulaic result if it concludes that it is not appropriate in all the circumstances. The Committee will also have regard to any safety concerns. ',\n",
       " 'We do not disclose full details of the personal/strategic objectives for the Executive Directors or the financial targets in this report, as we consider them to be commercially sensitive. It is, however, our intention to disclose retrospectively these targets in next year’s annual report on remuneration. ',\n",
       " '50% of any bonus payments will be cash and 50% deferred into shares and released after three years. ',\n",
       " 'Restricted Stock Plan (RSP) ',\n",
       " 'The Committee proposes to approve the grant of 2021 RSP awards to Executive Directors with a face value of 125% of salary. For the 2021 RSP awards, an underpin will apply so that the Committee may reduce the vesting outturn if ROCE, revenue growth and/or delivery of the Board’s agreed strategy for the repositioning of our environmental impact is not considered by the Committee to be at an acceptable level. An assessment will be made by the Board taking into account the long-term targets we set out in November 2020 for the next decade, with assessment of ROCE and revenue growth having regard to performance in 2019 as the basis for such assessment. ',\n",
       " 'Initial awards are expected to be granted in April 2021, subject to approval of the new remuneration policy for Executive Directors at the 2021 AGM. ',\n",
       " 'As with the annual bonus, consistent with the Code, the Committee has appropriate discretion to adjust any formulaic result if it concludes that it is not appropriate in all the circumstances. ',\n",
       " 'Remuneration continued 74 ',\n",
       " 'Aggreko plc Annual Report and Accounts 2020 ']"
      ]
     },
     "execution_count": 16,
     "metadata": {},
     "output_type": "execute_result"
    }
   ],
   "source": [
    "Aggreko_clean_with_tables = cleaning.toy_clean(Aggreko, table_contents=True)\n",
    "Aggreko_clean_with_tables[76]"
   ]
  }
 ],
 "metadata": {
  "kernelspec": {
   "display_name": "Python 3 (ipykernel)",
   "language": "python",
   "name": "python3"
  },
  "language_info": {
   "codemirror_mode": {
    "name": "ipython",
    "version": 3
   },
   "file_extension": ".py",
   "mimetype": "text/x-python",
   "name": "python",
   "nbconvert_exporter": "python",
   "pygments_lexer": "ipython3",
   "version": "3.8.10"
  }
 },
 "nbformat": 4,
 "nbformat_minor": 5
}
