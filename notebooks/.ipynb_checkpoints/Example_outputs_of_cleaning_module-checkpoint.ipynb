{
 "cells": [
  {
   "cell_type": "markdown",
   "id": "2d4fb450-3927-4992-a999-fe96af9d8de8",
   "metadata": {},
   "source": [
    "# Example usage of cleaning.py"
   ]
  },
  {
   "cell_type": "code",
   "execution_count": null,
   "id": "84afa94a",
   "metadata": {},
   "outputs": [],
   "source": [
    "import sys\n",
    "sys.path.append('../scripts')\n",
    "\n",
    "import os\n",
    "from tqdm import tqdm\n",
    "import cleaning"
   ]
  },
  {
   "cell_type": "code",
   "execution_count": null,
   "id": "3587296b-c512-40d6-a859-36909b2079e4",
   "metadata": {},
   "outputs": [],
   "source": [
    "directory = r'../data/raw/test'\n",
    "\n",
    "for filename in tqdm(os.listdir(directory)):\n",
    "    if filename.endswith('.pdf'):\n",
    "        path = directory + '/' + filename\n",
    "        parsed_file = cleaning.parse_file(path)\n",
    "        clean_file = cleaning.toy_clean(parsed_file, table_contents=True)\n",
    "    \n",
    "print('All cleaning ok!')"
   ]
  },
  {
   "cell_type": "markdown",
   "id": "e1b733d7-caa5-42e9-9db6-d021f110961c",
   "metadata": {
    "tags": []
   },
   "source": [
    "## Example with Avast"
   ]
  },
  {
   "cell_type": "code",
   "execution_count": null,
   "id": "0efe1544-0162-403c-a631-d3fcc8d9f3fb",
   "metadata": {},
   "outputs": [],
   "source": [
    "Avast_path = \"../data/raw/test/Avast_Annual_Report_2020.pdf\""
   ]
  },
  {
   "cell_type": "markdown",
   "id": "33415496-19c1-4390-a0e4-b871bf341051",
   "metadata": {},
   "source": [
    "### Example of parsed output"
   ]
  },
  {
   "cell_type": "code",
   "execution_count": null,
   "id": "f9781909",
   "metadata": {
    "tags": []
   },
   "outputs": [],
   "source": [
    "Avast = cleaning.parse_file(Avast_path)\n",
    "Avast[34]"
   ]
  },
  {
   "cell_type": "markdown",
   "id": "35e44f49-16bf-41c2-92fa-bdf11a9b87d9",
   "metadata": {},
   "source": [
    "### Example of output without tables"
   ]
  },
  {
   "cell_type": "code",
   "execution_count": null,
   "id": "ebcafcc2-d446-40bd-942b-c1cb2de3c044",
   "metadata": {},
   "outputs": [],
   "source": [
    "Avast_clean = cleaning.toy_clean(Avast) \n",
    "Avast_clean[34]"
   ]
  },
  {
   "cell_type": "markdown",
   "id": "da23f4f7-c34f-4cf4-82bc-3e0f21d9e6f9",
   "metadata": {},
   "source": [
    "### Example of output with tables"
   ]
  },
  {
   "cell_type": "code",
   "execution_count": null,
   "id": "6c71918a-6d42-4782-88b7-b8782ea3d807",
   "metadata": {},
   "outputs": [],
   "source": [
    "Avast_clean_with_tables = cleaning.toy_clean(Avast, table_contents=True)\n",
    "Avast_clean_with_tables[34]"
   ]
  },
  {
   "cell_type": "code",
   "execution_count": null,
   "id": "1c705706",
   "metadata": {},
   "outputs": [],
   "source": []
  }
 ],
 "metadata": {
  "kernelspec": {
   "display_name": "Python 3 (ipykernel)",
   "language": "python",
   "name": "python3"
  },
  "language_info": {
   "codemirror_mode": {
    "name": "ipython",
    "version": 3
   },
   "file_extension": ".py",
   "mimetype": "text/x-python",
   "name": "python",
   "nbconvert_exporter": "python",
   "pygments_lexer": "ipython3",
   "version": "3.8.10"
  }
 },
 "nbformat": 4,
 "nbformat_minor": 5
}
