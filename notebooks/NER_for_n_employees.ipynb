{
 "cells": [
  {
   "cell_type": "markdown",
   "id": "0f59353d-aed7-49c3-b14c-bddb17d233f8",
   "metadata": {},
   "source": [
    "# Sketch for Named Entity Recognition for Number of Employees"
   ]
  },
  {
   "cell_type": "markdown",
   "id": "feead8ed-13bf-4238-8d6f-783ac051ae8d",
   "metadata": {},
   "source": [
    "In this notebook we started trying to implement a Named Entity Recognition tagger for `n_employees`. This has not been implemented as a part of the binary classifier for number of employees. We will see the performance and limitations below."
   ]
  },
  {
   "cell_type": "code",
   "execution_count": 1,
   "id": "dea8efe3",
   "metadata": {
    "tags": []
   },
   "outputs": [],
   "source": [
    "import sys\n",
    "# adds folder ../scripts to look for module imports\n",
    "sys.path.append('../scripts')\n",
    "import pandas as pd\n",
    "import re\n",
    "import numpy as np\n",
    "from cleaning import *\n",
    "from preprocessing import *\n",
    "import random\n",
    "from sklearn.model_selection import train_test_split"
   ]
  },
  {
   "cell_type": "markdown",
   "id": "f1e5a6ec-7b22-40a3-9ce5-198abceb3d03",
   "metadata": {},
   "source": [
    "We will import a set of labelled data for `n_employees` as use the `train_test_split` function for dividing the training and testing set."
   ]
  },
  {
   "cell_type": "code",
   "execution_count": 4,
   "id": "21a487be-26d5-4407-afb4-d949fae9c8aa",
   "metadata": {},
   "outputs": [],
   "source": [
    "data = pd.read_csv('../data/processed/training_data_n_employees.csv')\n",
    "y = data['class']\n",
    "X = data[['filename', 'text', 'match_string', 'page']]\n",
    "X_train, X_test, y_train, y_test = train_test_split( X, y, random_state=1, test_size = 0.3)"
   ]
  },
  {
   "cell_type": "markdown",
   "id": "dfc90791-b486-4870-a021-e94e5345e014",
   "metadata": {},
   "source": [
    "As the data is quite unbalanced, we artificially balanced the data."
   ]
  },
  {
   "cell_type": "code",
   "execution_count": 5,
   "id": "8ce56a02-a2b8-49d8-a480-c2a28262e6ca",
   "metadata": {},
   "outputs": [],
   "source": [
    "# Get dataframe containing actual text mentions of number of employees and \n",
    "# dataframes with results from matcher not containing the number of employees\n",
    "\n",
    "positives = data[data['class']==1]\n",
    "negatives = data[data['class']==0]\n",
    "index = negatives.index\n",
    "\n",
    "train_data = pd.concat([positives, \n",
    "                        negatives.loc[random.sample(list(index),51)]],\n",
    "                      ignore_index = True)"
   ]
  },
  {
   "cell_type": "code",
   "execution_count": 6,
   "id": "312e9de8",
   "metadata": {},
   "outputs": [],
   "source": [
    "def identify_n_employees(row, label):\n",
    "    \"\"\"\n",
    "    Defines start and end position of the entity n_employees\n",
    "    on dataframe with labels.\n",
    "    \n",
    "    Args:\n",
    "    \n",
    "    row (Series): row of the dataframe \n",
    "    label (int): 1 if the text in the row contains the number of employees\n",
    "    0 if it doesn't\n",
    "    \n",
    "    Returns:\n",
    "    ID (tuple): (start,end, name) where\n",
    "        start: starting character of the entity in the string\n",
    "        end: ending character of the entity in the string\n",
    "        name: name given to the entity\n",
    "    \"\"\"\n",
    "    # If the row contains text with the number of employees\n",
    "    # return the ID with name=\"n_employees\"\n",
    "    if label==1:\n",
    "        text = row['text']\n",
    "        match_strings = row['match_string'].split(' ')\n",
    "        start = re.search(match_strings[0],text).start()\n",
    "        end = re.search(match_strings[-1], text).end()\n",
    "        ID = (start, end, \"n_employees\")\n",
    "        \n",
    "    #If the row does not contain text with number of employees\n",
    "    # return empty ID\n",
    "    else:\n",
    "        ID = (None, None, None)\n",
    "    return ID"
   ]
  },
  {
   "cell_type": "markdown",
   "id": "97cf07b0-d72a-4609-9350-b70e61faca98",
   "metadata": {},
   "source": [
    "We will create a blank pipeline with spacy and add a pipe for a named entity recognition."
   ]
  },
  {
   "cell_type": "code",
   "execution_count": 7,
   "id": "d90dbf5f-c385-47d2-8a6f-fb9f18c38538",
   "metadata": {},
   "outputs": [],
   "source": [
    "nlp = spacy.blank(\"en\")\n",
    "ner = nlp.create_pipe(\"ner\")\n",
    "nlp.add_pipe(ner, last=True)\n",
    "ner = nlp.get_pipe(\"ner\")\n",
    "ner.add_label(\"n_employees\")"
   ]
  },
  {
   "cell_type": "code",
   "execution_count": 8,
   "id": "e8e247c1-9944-4346-a832-ee387efd7b44",
   "metadata": {},
   "outputs": [
    {
     "name": "stderr",
     "output_type": "stream",
     "text": [
      "/tmp/ipykernel_18289/2801893225.py:5: SettingWithCopyWarning: \n",
      "A value is trying to be set on a copy of a slice from a DataFrame.\n",
      "Try using .loc[row_indexer,col_indexer] = value instead\n",
      "\n",
      "See the caveats in the documentation: https://pandas.pydata.org/pandas-docs/stable/user_guide/indexing.html#returning-a-view-versus-a-copy\n",
      "  X_train['entities'] = [[identify_n_employees(X_train.loc[i], y_train[i])]\n",
      "\n"
     ]
    }
   ],
   "source": [
    "# Define the where the entities are in the training set\n",
    "# For each row on the trainiing data and each corresponding label\n",
    "# insert the ID tuple in a row or an empty list\n",
    "\n",
    "X_train['entities'] = [[identify_n_employees(X_train.loc[i], y_train[i])]\n",
    "                          if identify_n_employees(X_train.loc[i], y_train[i])[2] !=None\n",
    "                          else [] for i in X_train.index]"
   ]
  },
  {
   "cell_type": "code",
   "execution_count": 9,
   "id": "9baa1ea0-8705-42a4-92ac-53e949427767",
   "metadata": {},
   "outputs": [
    {
     "data": {
      "text/plain": [
       "127     [(29, 55, n_employees)]\n",
       "38     [(159, 39, n_employees)]\n",
       "225     [(12, 39, n_employees)]\n",
       "269    [(91, 117, n_employees)]\n",
       "125                          []\n",
       "                 ...           \n",
       "203      [(4, 26, n_employees)]\n",
       "255                          []\n",
       "72      [(20, 47, n_employees)]\n",
       "235                          []\n",
       "37     [(115, 39, n_employees)]\n",
       "Name: entities, Length: 224, dtype: object"
      ]
     },
     "execution_count": 9,
     "metadata": {},
     "output_type": "execute_result"
    }
   ],
   "source": [
    "X_train['entities']"
   ]
  },
  {
   "cell_type": "markdown",
   "id": "48f3d0f3-834d-4bf4-8581-5e5585dbe36d",
   "metadata": {},
   "source": [
    "We proceed with the training of the model with 20 iterations."
   ]
  },
  {
   "cell_type": "code",
   "execution_count": 10,
   "id": "35931e8b-6a5b-4c84-aed4-63771b1e3317",
   "metadata": {},
   "outputs": [
    {
     "name": "stderr",
     "output_type": "stream",
     "text": [
      "/home/lucas_d/anaconda3/envs/SocialNLP/lib/python3.8/site-packages/spacy/language.py:635: UserWarning: [W033] Training a new parser or NER using a model with an empty lexeme normalization table. This may degrade the performance to some degree. If this is intentional or this language doesn't have a normalization table, please ignore this warning.\n",
      "  proc.begin_training(\n",
      "\n",
      "/home/lucas_d/anaconda3/envs/SocialNLP/lib/python3.8/site-packages/spacy/language.py:635: UserWarning: [W034] Please install the package spacy-lookups-data in order to include the default lexeme normalization table for the language 'en'.\n",
      "  proc.begin_training(\n",
      "\n"
     ]
    },
    {
     "name": "stdout",
     "output_type": "stream",
     "text": [
      "Losses at iteration 0 - 2021-09-02 23:31:04.851451 {'ner': 807.7058540482242}\n",
      "Losses at iteration 1 - 2021-09-02 23:31:17.320495 {'ner': 242.8957403522908}\n",
      "Losses at iteration 2 - 2021-09-02 23:31:27.888339 {'ner': 145.48093393548902}\n",
      "Losses at iteration 3 - 2021-09-02 23:31:44.963613 {'ner': 175.7385099519872}\n",
      "Losses at iteration 4 - 2021-09-02 23:31:56.314223 {'ner': 180.7361507564931}\n",
      "Losses at iteration 5 - 2021-09-02 23:32:11.974292 {'ner': 257.0131924496304}\n",
      "Losses at iteration 6 - 2021-09-02 23:32:28.282448 {'ner': 97.66807456508076}\n",
      "Losses at iteration 7 - 2021-09-02 23:32:42.590461 {'ner': 483.3261671778362}\n",
      "Losses at iteration 8 - 2021-09-02 23:32:57.245884 {'ner': 125.59524510648001}\n",
      "Losses at iteration 9 - 2021-09-02 23:33:10.476808 {'ner': 153.976823864141}\n",
      "Losses at iteration 10 - 2021-09-02 23:33:23.228166 {'ner': 192.11500536327532}\n",
      "Losses at iteration 11 - 2021-09-02 23:33:37.345677 {'ner': 169.92822112347025}\n",
      "Losses at iteration 12 - 2021-09-02 23:33:57.362813 {'ner': 57.596452029914495}\n",
      "Losses at iteration 13 - 2021-09-02 23:34:11.764754 {'ner': 95.24670290983887}\n",
      "Losses at iteration 14 - 2021-09-02 23:34:29.065931 {'ner': 138.17354258622373}\n",
      "Losses at iteration 15 - 2021-09-02 23:34:48.673624 {'ner': 121.31795932390825}\n",
      "Losses at iteration 16 - 2021-09-02 23:35:01.902769 {'ner': 97.48462539351013}\n",
      "Losses at iteration 17 - 2021-09-02 23:35:16.137917 {'ner': 62.87883664778628}\n",
      "Losses at iteration 18 - 2021-09-02 23:35:28.537971 {'ner': 63.88412239201257}\n",
      "Losses at iteration 19 - 2021-09-02 23:35:43.711795 {'ner': 160.72988425614173}\n"
     ]
    }
   ],
   "source": [
    "import random \n",
    "import datetime as dt\n",
    "\n",
    "optimizer = nlp.begin_training()\n",
    "for i in range(20):\n",
    "    index= list(X_train.index)\n",
    "    random.shuffle(index)\n",
    "    losses = {}\n",
    "    for j in index:\n",
    "        nlp.update([X_train.loc[j,'text']],\n",
    "                   [{'entities':X_train.loc[j,'entities']}],\n",
    "                   sgd=optimizer,\n",
    "                   losses=losses)\n",
    "    print(f\"Losses at iteration {i} - {dt.datetime.now()}\", losses)"
   ]
  },
  {
   "cell_type": "markdown",
   "id": "d6a9e8c5-a40e-4a7a-800d-d30a9a1f3b06",
   "metadata": {},
   "source": [
    "See how the named entity recognition performs as a binary classifier on the training data itself."
   ]
  },
  {
   "cell_type": "code",
   "execution_count": 11,
   "id": "9b105b03-be7c-437b-9859-608b7c53e8fc",
   "metadata": {},
   "outputs": [
    {
     "name": "stderr",
     "output_type": "stream",
     "text": [
      "/tmp/ipykernel_18289/739274495.py:8: SettingWithCopyWarning: \n",
      "A value is trying to be set on a copy of a slice from a DataFrame.\n",
      "Try using .loc[row_indexer,col_indexer] = value instead\n",
      "\n",
      "See the caveats in the documentation: https://pandas.pydata.org/pandas-docs/stable/user_guide/indexing.html#returning-a-view-versus-a-copy\n",
      "  X_train['spacy_pred']=spacy_pred\n",
      "\n"
     ]
    }
   ],
   "source": [
    "spacy_pred = []\n",
    "for text in X_train['text']:\n",
    "    doc = nlp(text)\n",
    "    if len(doc.ents)>0:\n",
    "        spacy_pred.append(1)\n",
    "    else:\n",
    "        spacy_pred.append(0)\n",
    "X_train['spacy_pred']=spacy_pred"
   ]
  },
  {
   "cell_type": "code",
   "execution_count": 12,
   "id": "6fdcf3ae-f53c-42e8-a8fa-8d5b10647a82",
   "metadata": {},
   "outputs": [],
   "source": [
    "from sklearn.metrics import accuracy_score,f1_score, precision_score, recall_score"
   ]
  },
  {
   "cell_type": "code",
   "execution_count": 13,
   "id": "3b9dd74e-a4a8-410e-b2b1-8b14f4caa068",
   "metadata": {},
   "outputs": [
    {
     "name": "stdout",
     "output_type": "stream",
     "text": [
      " Accuracy score: 0.9642857142857143\n",
      "F1 score: 0.9595959595959594\n",
      "Precision: 0.979381443298969\n",
      "Recall: 0.9405940594059405\n",
      "\n"
     ]
    }
   ],
   "source": [
    "y_true = y_train\n",
    "y_pred = X_train['spacy_pred']\n",
    "\n",
    "acc = accuracy_score(y_true, y_pred)\n",
    "f1 = f1_score(y_true,y_pred)\n",
    "precision = precision_score(y_true, y_pred)\n",
    "recall = recall_score(y_true,y_pred)\n",
    "\n",
    "print(f\"\"\" Accuracy score: {acc}\n",
    "F1 score: {f1}\n",
    "Precision: {precision}\n",
    "Recall: {recall}\n",
    "\"\"\")"
   ]
  },
  {
   "cell_type": "markdown",
   "id": "3213e00f-71d2-4c2d-830d-1f4258f45d2e",
   "metadata": {},
   "source": [
    "More importantly let us see how it performs as a classifier on the test data"
   ]
  },
  {
   "cell_type": "code",
   "execution_count": 14,
   "id": "a6775ce2-1c27-49f6-8571-a84e4e1f42d0",
   "metadata": {},
   "outputs": [
    {
     "name": "stderr",
     "output_type": "stream",
     "text": [
      "/tmp/ipykernel_18289/4007136948.py:8: SettingWithCopyWarning: \n",
      "A value is trying to be set on a copy of a slice from a DataFrame.\n",
      "Try using .loc[row_indexer,col_indexer] = value instead\n",
      "\n",
      "See the caveats in the documentation: https://pandas.pydata.org/pandas-docs/stable/user_guide/indexing.html#returning-a-view-versus-a-copy\n",
      "  X_test['spacy_pred']=spacy_pred\n",
      "\n"
     ]
    }
   ],
   "source": [
    "spacy_pred = []\n",
    "for text in X_test['text']:\n",
    "    doc = nlp(text)\n",
    "    if len(doc.ents)>0:\n",
    "        spacy_pred.append(1)\n",
    "    else:\n",
    "        spacy_pred.append(0)\n",
    "X_test['spacy_pred']=spacy_pred"
   ]
  },
  {
   "cell_type": "markdown",
   "id": "bdfdb85b-7dc2-4784-8a8f-317da9782ab0",
   "metadata": {},
   "source": [
    "We can have a look at the scores."
   ]
  },
  {
   "cell_type": "code",
   "execution_count": 15,
   "id": "00b1e830-7bc8-4a3d-82ea-c42eba05f71b",
   "metadata": {},
   "outputs": [
    {
     "name": "stdout",
     "output_type": "stream",
     "text": [
      " Accuracy score: 0.8333333333333334\n",
      "F1 score: 0.8222222222222222\n",
      "Precision: 0.8809523809523809\n",
      "Recall: 0.7708333333333334\n",
      "\n"
     ]
    }
   ],
   "source": [
    "y_true = y_test\n",
    "y_pred = X_test['spacy_pred']\n",
    "\n",
    "acc = accuracy_score(y_true, y_pred)\n",
    "f1 = f1_score(y_true,y_pred)\n",
    "precision = precision_score(y_true, y_pred)\n",
    "recall = recall_score(y_true,y_pred)\n",
    "\n",
    "print(f\"\"\" Accuracy score: {acc}\n",
    "F1 score: {f1}\n",
    "Precision: {precision}\n",
    "Recall: {recall}\n",
    "\"\"\")"
   ]
  },
  {
   "cell_type": "markdown",
   "id": "ae1d82d9-0db8-4d29-9e96-5c6781232169",
   "metadata": {},
   "source": [
    "As a binary classifier, the spacy NER trained is not better than the sklearn model used in the implementation. We now visualize some of the output of the NER using displacy."
   ]
  },
  {
   "cell_type": "code",
   "execution_count": 19,
   "id": "e669f6fd-75ab-439e-bcfb-248511149d94",
   "metadata": {},
   "outputs": [],
   "source": [
    "from spacy import displacy"
   ]
  },
  {
   "cell_type": "code",
   "execution_count": 20,
   "id": "aef65d92",
   "metadata": {},
   "outputs": [
    {
     "name": "stderr",
     "output_type": "stream",
     "text": [
      "/home/lucas_d/anaconda3/envs/SocialNLP/lib/python3.8/site-packages/spacy/displacy/__init__.py:189: UserWarning: [W006] No entities to visualize found in Doc object. If this is surprising to you, make sure the Doc was processed using a model that supports named entity recognition, and check the `doc.ents` property manually if necessary.\n",
      "  warnings.warn(Warnings.W006)\n",
      "\n"
     ]
    },
    {
     "data": {
      "text/html": [
       "<span class=\"tex2jax_ignore\"><div class=\"entities\" style=\"line-height: 2.5; direction: ltr\">The average full time equivalent number of employees, including Directors and part-time employees in continuing operations was 46,563 (2018: 46,025).</div></span>"
      ],
      "text/plain": [
       "<IPython.core.display.HTML object>"
      ]
     },
     "metadata": {},
     "output_type": "display_data"
    },
    {
     "data": {
      "text/html": [
       "<span class=\"tex2jax_ignore\"><div class=\"entities\" style=\"line-height: 2.5; direction: ltr\">All metrics except for the Employees metric exclude the 4,000 employees in certain New Energies and Downstream companies.</div></span>"
      ],
      "text/plain": [
       "<IPython.core.display.HTML object>"
      ]
     },
     "metadata": {},
     "output_type": "display_data"
    },
    {
     "data": {
      "text/html": [
       "<span class=\"tex2jax_ignore\"><div class=\"entities\" style=\"line-height: 2.5; direction: ltr\">7 Staff and employment costs The \n",
       "<mark class=\"entity\" style=\"background: #ddd; padding: 0.45em 0.6em; margin: 0 0.25em; line-height: 1; border-radius: 0.35em;\">\n",
       "    average number of staff\n",
       "    <span style=\"font-size: 0.8em; font-weight: bold; line-height: 1; border-radius: 0.35em; text-transform: uppercase; vertical-align: middle; margin-left: 0.5rem\">n_employees</span>\n",
       "</mark>\n",
       " employed by the Group during the year was:</div></span>"
      ],
      "text/plain": [
       "<IPython.core.display.HTML object>"
      ]
     },
     "metadata": {},
     "output_type": "display_data"
    },
    {
     "data": {
      "text/html": [
       "<span class=\"tex2jax_ignore\"><div class=\"entities\" style=\"line-height: 2.5; direction: ltr\">During 2019, we directly \n",
       "<mark class=\"entity\" style=\"background: #ddd; padding: 0.45em 0.6em; margin: 0 0.25em; line-height: 1; border-radius: 0.35em;\">\n",
       "    employed, on average, 5,796 people\n",
       "    <span style=\"font-size: 0.8em; font-weight: bold; line-height: 1; border-radius: 0.35em; text-transform: uppercase; vertical-align: middle; margin-left: 0.5rem\">n_employees</span>\n",
       "</mark>\n",
       " across the UK (2018: 5,358) and provided opportunities for over 14.6k further operatives on our sites. Our voluntary employee turnover rate remained low at 12.9% (2018: 14.5%).</div></span>"
      ],
      "text/plain": [
       "<IPython.core.display.HTML object>"
      ]
     },
     "metadata": {},
     "output_type": "display_data"
    },
    {
     "data": {
      "text/html": [
       "<span class=\"tex2jax_ignore\"><div class=\"entities\" style=\"line-height: 2.5; direction: ltr\">The table below shows the \n",
       "<mark class=\"entity\" style=\"background: #ddd; padding: 0.45em 0.6em; margin: 0 0.25em; line-height: 1; border-radius: 0.35em;\">\n",
       "    average number of employees\n",
       "    <span style=\"font-size: 0.8em; font-weight: bold; line-height: 1; border-radius: 0.35em; text-transform: uppercase; vertical-align: middle; margin-left: 0.5rem\">n_employees</span>\n",
       "</mark>\n",
       " by operating segment during the financial year.</div></span>"
      ],
      "text/plain": [
       "<IPython.core.display.HTML object>"
      ]
     },
     "metadata": {},
     "output_type": "display_data"
    },
    {
     "data": {
      "text/html": [
       "<span class=\"tex2jax_ignore\"><div class=\"entities\" style=\"line-height: 2.5; direction: ltr\">Average headcount 11,611 12,140 -4%</div></span>"
      ],
      "text/plain": [
       "<IPython.core.display.HTML object>"
      ]
     },
     "metadata": {},
     "output_type": "display_data"
    },
    {
     "data": {
      "text/html": [
       "<span class=\"tex2jax_ignore\"><div class=\"entities\" style=\"line-height: 2.5; direction: ltr\">Our response We have c.750 colleagues (c.15% of our workforce) currently pursuing structured training courses. The Group currently has over 450 apprentices learning traditional craft skills such as bricklaying and joinery, and c.300 professional trainees in areas such as quantity surveying, planning and construction disciplines.</div></span>"
      ],
      "text/plain": [
       "<IPython.core.display.HTML object>"
      ]
     },
     "metadata": {},
     "output_type": "display_data"
    },
    {
     "data": {
      "text/html": [
       "<span class=\"tex2jax_ignore\"><div class=\"entities\" style=\"line-height: 2.5; direction: ltr\">A total of 18.1% of our total workforce have declared themselves to be of minority racial or ethnic heritage. We recognise the value a diverse workforce and inclusive culture bring to our business. We have many initiatives to encourage and promote diversity and inclusion.</div></span>"
      ],
      "text/plain": [
       "<IPython.core.display.HTML object>"
      ]
     },
     "metadata": {},
     "output_type": "display_data"
    },
    {
     "data": {
      "text/html": [
       "<span class=\"tex2jax_ignore\"><div class=\"entities\" style=\"line-height: 2.5; direction: ltr\">Our Annual Performance Plan is operated consistently across the organisation, and \n",
       "<mark class=\"entity\" style=\"background: #ddd; padding: 0.45em 0.6em; margin: 0 0.25em; line-height: 1; border-radius: 0.35em;\">\n",
       "    has more than 14,000 employees\n",
       "    <span style=\"font-size: 0.8em; font-weight: bold; line-height: 1; border-radius: 0.35em; text-transform: uppercase; vertical-align: middle; margin-left: 0.5rem\">n_employees</span>\n",
       "</mark>\n",
       " participating. As employees progress and are promoted their target bonus and maximum multiplier typically increases.</div></span>"
      ],
      "text/plain": [
       "<IPython.core.display.HTML object>"
      ]
     },
     "metadata": {},
     "output_type": "display_data"
    },
    {
     "data": {
      "text/html": [
       "<span class=\"tex2jax_ignore\"><div class=\"entities\" style=\"line-height: 2.5; direction: ltr\">The \n",
       "<mark class=\"entity\" style=\"background: #ddd; padding: 0.45em 0.6em; margin: 0 0.25em; line-height: 1; border-radius: 0.35em;\">\n",
       "    average monthly number of persons\n",
       "    <span style=\"font-size: 0.8em; font-weight: bold; line-height: 1; border-radius: 0.35em; text-transform: uppercase; vertical-align: middle; margin-left: 0.5rem\">n_employees</span>\n",
       "</mark>\n",
       " employed by the Group during the period was:</div></span>"
      ],
      "text/plain": [
       "<IPython.core.display.HTML object>"
      ]
     },
     "metadata": {},
     "output_type": "display_data"
    },
    {
     "data": {
      "text/html": [
       "<span class=\"tex2jax_ignore\"><div class=\"entities\" style=\"line-height: 2.5; direction: ltr\">&lt;TABLE 116 CONTENTS(Ended Wages and salaries Social security costs Other pension costs Share-based payment expense(1) Total gross employment costs Staff costs capitalised as intangible assets Staff costs capitalised as property, plant and equipment Total employment cost Average monthly number of employees (including Executive Directors) by function Operational staff Support staff) ENDTABLE&gt;</div></span>"
      ],
      "text/plain": [
       "<IPython.core.display.HTML object>"
      ]
     },
     "metadata": {},
     "output_type": "display_data"
    },
    {
     "data": {
      "text/html": [
       "<span class=\"tex2jax_ignore\"><div class=\"entities\" style=\"line-height: 2.5; direction: ltr\">Relative importance of spend on pay The following table sets out the total employee costs for all employees, as well as the amounts paid in dividends and share repurchases.</div></span>"
      ],
      "text/plain": [
       "<IPython.core.display.HTML object>"
      ]
     },
     "metadata": {},
     "output_type": "display_data"
    },
    {
     "data": {
      "text/html": [
       "<span class=\"tex2jax_ignore\"><div class=\"entities\" style=\"line-height: 2.5; direction: ltr\">\n",
       "<mark class=\"entity\" style=\"background: #ddd; padding: 0.45em 0.6em; margin: 0 0.25em; line-height: 1; border-radius: 0.35em;\">\n",
       "    Average number of employees\n",
       "    <span style=\"font-size: 0.8em; font-weight: bold; line-height: 1; border-radius: 0.35em; text-transform: uppercase; vertical-align: middle; margin-left: 0.5rem\">n_employees</span>\n",
       "</mark>\n",
       " 12,988 12,319</div></span>"
      ],
      "text/plain": [
       "<IPython.core.display.HTML object>"
      ]
     },
     "metadata": {},
     "output_type": "display_data"
    },
    {
     "data": {
      "text/html": [
       "<span class=\"tex2jax_ignore\"><div class=\"entities\" style=\"line-height: 2.5; direction: ltr\">Average employees Full-time equivalents</div></span>"
      ],
      "text/plain": [
       "<IPython.core.display.HTML object>"
      ]
     },
     "metadata": {},
     "output_type": "display_data"
    },
    {
     "data": {
      "text/html": [
       "<span class=\"tex2jax_ignore\"><div class=\"entities\" style=\"line-height: 2.5; direction: ltr\">The monthly \n",
       "<mark class=\"entity\" style=\"background: #ddd; padding: 0.45em 0.6em; margin: 0 0.25em; line-height: 1; border-radius: 0.35em;\">\n",
       "    average number of employees\n",
       "    <span style=\"font-size: 0.8em; font-weight: bold; line-height: 1; border-radius: 0.35em; text-transform: uppercase; vertical-align: middle; margin-left: 0.5rem\">n_employees</span>\n",
       "</mark>\n",
       " of the Company and its subsidiary undertakings during the year was:</div></span>"
      ],
      "text/plain": [
       "<IPython.core.display.HTML object>"
      ]
     },
     "metadata": {},
     "output_type": "display_data"
    },
    {
     "data": {
      "text/html": [
       "<span class=\"tex2jax_ignore\"><div class=\"entities\" style=\"line-height: 2.5; direction: ltr\">&lt;TABLE 2 CONTENTS(On a like-for-like basis, the \n",
       "<mark class=\"entity\" style=\"background: #ddd; padding: 0.45em 0.6em; margin: 0 0.25em; line-height: 1; border-radius: 0.35em;\">\n",
       "    average number of people\n",
       "    <span style=\"font-size: 0.8em; font-weight: bold; line-height: 1; border-radius: 0.35em; text-transform: uppercase; vertical-align: middle; margin-left: 0.5rem\">n_employees</span>\n",
       "</mark>\n",
       " in the Group, excluding associates, in 2019 was 106,508 compared to 106,555 in people, excluding associates, at 31 December) ENDTABLE&gt;</div></span>"
      ],
      "text/plain": [
       "<IPython.core.display.HTML object>"
      ]
     },
     "metadata": {},
     "output_type": "display_data"
    },
    {
     "data": {
      "text/html": [
       "<span class=\"tex2jax_ignore\"><div class=\"entities\" style=\"line-height: 2.5; direction: ltr\">Total staff costs 2,868 2,064</div></span>"
      ],
      "text/plain": [
       "<IPython.core.display.HTML object>"
      ]
     },
     "metadata": {},
     "output_type": "display_data"
    },
    {
     "data": {
      "text/html": [
       "<span class=\"tex2jax_ignore\"><div class=\"entities\" style=\"line-height: 2.5; direction: ltr\">Ocado continued to develop its own proprietary software and incurred 71.4 million (2018: 54.8 million) of internal development costs in the period on technology, including 13.9 million (2018: 10.6 million) spent on computer hardware and software. We expanded our Technology total headcount to over 1,700 staff at the end of the period (2018: over 1,300 staff) as increased investments were made to support our strategic initiatives. The main areas of investment were replatforming of our technology and the greater use of public and private cloud services, improvements in the efficiency of our routing systems, enhancements to our customer proposition, and support for the Erith CFC and existing partners future CFCs.</div></span>"
      ],
      "text/plain": [
       "<IPython.core.display.HTML object>"
      ]
     },
     "metadata": {},
     "output_type": "display_data"
    },
    {
     "data": {
      "text/html": [
       "<span class=\"tex2jax_ignore\"><div class=\"entities\" style=\"line-height: 2.5; direction: ltr\">Of the total employee share options above, the following options were subject to performance criteria in relation to the average contribution by basket and EBITDA A :</div></span>"
      ],
      "text/plain": [
       "<IPython.core.display.HTML object>"
      ]
     },
     "metadata": {},
     "output_type": "display_data"
    },
    {
     "data": {
      "text/html": [
       "<span class=\"tex2jax_ignore\"><div class=\"entities\" style=\"line-height: 2.5; direction: ltr\">The \n",
       "<mark class=\"entity\" style=\"background: #ddd; padding: 0.45em 0.6em; margin: 0 0.25em; line-height: 1; border-radius: 0.35em;\">\n",
       "    average number of employees\n",
       "    <span style=\"font-size: 0.8em; font-weight: bold; line-height: 1; border-radius: 0.35em; text-transform: uppercase; vertical-align: middle; margin-left: 0.5rem\">n_employees</span>\n",
       "</mark>\n",
       " during 2019 included 9,327 seasonal workers. </div></span>"
      ],
      "text/plain": [
       "<IPython.core.display.HTML object>"
      ]
     },
     "metadata": {},
     "output_type": "display_data"
    }
   ],
   "source": [
    "for text in X_test['text'][:20]:\n",
    "    doc = nlp(text)\n",
    "    displacy.render(doc, style=\"ent\", jupyter=True)"
   ]
  },
  {
   "cell_type": "markdown",
   "id": "fca35f03-1d4b-41f3-9c72-27e7446b351f",
   "metadata": {},
   "source": [
    "## Conclusion"
   ]
  },
  {
   "cell_type": "markdown",
   "id": "ab22d036-9b41-41fe-9fdf-f40b85ca26d0",
   "metadata": {},
   "source": [
    "While many expressions used on the training data are indicative of the presence of the metric nearby, they are not suitable for the extraction of the metric itself (e.g. average headcount). And therefore the training data used for the binary classifier cannot be the same as one used for the NER.\n",
    "\n",
    "To refine this we suggest the we train a model to look for cardinal entities using SpaCy on the text already classified as containing the number of employees."
   ]
  }
 ],
 "metadata": {
  "kernelspec": {
   "display_name": "Python 3 (ipykernel)",
   "language": "python",
   "name": "python3"
  },
  "language_info": {
   "codemirror_mode": {
    "name": "ipython",
    "version": 3
   },
   "file_extension": ".py",
   "mimetype": "text/x-python",
   "name": "python",
   "nbconvert_exporter": "python",
   "pygments_lexer": "ipython3",
   "version": "3.8.10"
  }
 },
 "nbformat": 4,
 "nbformat_minor": 5
}
