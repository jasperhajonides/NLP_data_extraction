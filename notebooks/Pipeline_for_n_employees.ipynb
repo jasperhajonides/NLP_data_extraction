{
 "cells": [
  {
   "cell_type": "markdown",
   "id": "ea015d22",
   "metadata": {},
   "source": [
    "# Pipeline for training model number of employees\n"
   ]
  },
  {
   "cell_type": "code",
   "execution_count": null,
   "id": "90b687c4",
   "metadata": {},
   "outputs": [],
   "source": [
    "import sys\n",
    "import os\n",
    "# adds folder ../scripts to look for module imports\n",
    "sys.path.append('../scripts')\n",
    "\n",
    "from cleaning import *\n",
    "from preprocessing import *\n",
    "from tqdm import tqdm"
   ]
  },
  {
   "cell_type": "code",
   "execution_count": null,
   "id": "c86d12e5",
   "metadata": {},
   "outputs": [],
   "source": [
    "# Select year\n",
    "year = \"2020\"\n",
    "directory = r'../data/raw/annual_reports/{}/'.format(year)\n",
    "\n",
    "# Loop over documents\n",
    "filenames = []\n",
    "company_names = []\n",
    "dfs = pd.DataFrame()\n",
    "for filename in tqdm(os.listdir(directory)[0:80]):\n",
    "    if filename.endswith(\".pdf\"):\n",
    "        path = directory + filename\n",
    "        \n",
    "        # Run pattern patcher for each document\n",
    "        df = create_match_dataframe(path, 'n_employees')\n",
    "        company_info = define_company_dictionary(path)\n",
    "        dfs = dfs.append(df)\n",
    "        \n",
    "        \n",
    "dfs.to_csv(\"../data/processed/n_employees_2020_check.csv\", index=False)  "
   ]
  },
  {
   "cell_type": "code",
   "execution_count": null,
   "id": "6b89795c",
   "metadata": {},
   "outputs": [],
   "source": [
    "dfs"
   ]
  },
  {
   "cell_type": "markdown",
   "id": "92030fd8",
   "metadata": {},
   "source": [
    "# Identify all matches with a true positive on the same page"
   ]
  },
  {
   "cell_type": "code",
   "execution_count": null,
   "id": "aa70cd18",
   "metadata": {},
   "outputs": [],
   "source": [
    "#manually labelled data for 300+ phrases\n",
    "labelled = pd.read_csv('../data/processed/training_data_n_employees.csv')"
   ]
  },
  {
   "cell_type": "markdown",
   "id": "851f81f6",
   "metadata": {},
   "source": [
    " "
   ]
  },
  {
   "cell_type": "markdown",
   "id": "aafbc6f2",
   "metadata": {},
   "source": [
    "# Classification"
   ]
  },
  {
   "cell_type": "code",
   "execution_count": null,
   "id": "f0da4109",
   "metadata": {},
   "outputs": [],
   "source": [
    "import sys\n",
    "\n",
    "#edit directory\n",
    "sys.path.insert(0, '../scripts/')\n",
    "import matplotlib.pyplot as plt\n",
    "\n",
    "from sklearn_classifier import *"
   ]
  },
  {
   "cell_type": "code",
   "execution_count": null,
   "id": "bc70b4e5",
   "metadata": {},
   "outputs": [],
   "source": [
    "# Train model\n",
    "model,output = classify_NLP_df(labelled, ngram_range=(1, 3), alpha=0.25, classifier='MultinomialNB')\n",
    "labelled['likelihood'] = output['likelihood'][:,1]\n"
   ]
  },
  {
   "cell_type": "code",
   "execution_count": null,
   "id": "c4629970",
   "metadata": {},
   "outputs": [],
   "source": [
    "import pickle\n",
    "with open('/home/jasper_h/Aug21_Pivigo_S/models/n_employees_model.pkl', 'wb') as fp:\n",
    "    pickle.dump(model, fp)"
   ]
  }
 ],
 "metadata": {
  "kernelspec": {
   "display_name": "Python 3 (ipykernel)",
   "language": "python",
   "name": "python3"
  },
  "language_info": {
   "codemirror_mode": {
    "name": "ipython",
    "version": 3
   },
   "file_extension": ".py",
   "mimetype": "text/x-python",
   "name": "python",
   "nbconvert_exporter": "python",
   "pygments_lexer": "ipython3",
   "version": "3.8.10"
  }
 },
 "nbformat": 4,
 "nbformat_minor": 5
}
