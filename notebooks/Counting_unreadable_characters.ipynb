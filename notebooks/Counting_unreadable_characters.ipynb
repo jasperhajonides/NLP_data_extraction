{
 "cells": [
  {
   "cell_type": "code",
   "execution_count": 1,
   "id": "10eb0a17",
   "metadata": {},
   "outputs": [],
   "source": [
    "import fitz\n",
    "import re\n",
    "import os\n",
    "import pandas as pd\n",
    "from collections import Counter\n",
    "from tqdm import tqdm"
   ]
  },
  {
   "cell_type": "code",
   "execution_count": 2,
   "id": "0d0d84ea",
   "metadata": {},
   "outputs": [],
   "source": [
    "def parse_file(filepath):\n",
    "    \"\"\"Parses pdf file, returns dictionary where key=pagenum, value=list of\n",
    "    text/image block strings (paragraphs) for pdf.\n",
    "\n",
    "    Args:\n",
    "        filepath (str):  Filepath for .pdf file\n",
    "\n",
    "    Returns:\n",
    "        dict: Dictionary of paragraphs where key=pagenum and value=paragraph\n",
    "        list.\n",
    "    \"\"\"\n",
    "    with fitz.open(filepath) as doc:\n",
    "        block_dict = {(idx + 1): page.getText(\"blocks\") for idx, page in enumerate(doc)}\n",
    "        block_dict = {\n",
    "            key: [block[4] for block in value] for key, value in block_dict.items()\n",
    "        }\n",
    "    return block_dict\n",
    "\n",
    "\n",
    "def toy_clean(pdf_dict):\n",
    "    \"\"\" Converts extra whitespace, newline and  non-breaking characters into single space, \n",
    "        Removes all image strings,\n",
    "        Removes Adobe InDesign strings.\n",
    "        \n",
    "        Args: \n",
    "           pdf_dict: Dictionary of paragraphs where key=pagenum and value=paragraph list\n",
    "        \n",
    "        Returns:\n",
    "            pdf_dict: Dictionary of paragraphs where key=pagenum and value=paragraph list\n",
    "    \"\"\"\n",
    "    pdf_dict.update((k, [re.sub(r'\\s+', ' ', u\"{0}\".format(x)) for x in v]) for k,v in pdf_dict.items())\n",
    "    pdf_dict.update((k, [x for x in v if not '<image:' in x]) for k,v in pdf_dict.items())\n",
    "    pdf_dict.update((k, [x for x in v if not '.indd' in x]) for k,v in pdf_dict.items())\n",
    "    return pdf_dict\n",
    "        "
   ]
  },
  {
   "cell_type": "markdown",
   "id": "69162cd9",
   "metadata": {},
   "source": [
    "### Defining functions with specific requirements"
   ]
  },
  {
   "cell_type": "code",
   "execution_count": 6,
   "id": "5ad2d353",
   "metadata": {},
   "outputs": [],
   "source": [
    "import warnings\n",
    "from math import log10, floor\n",
    "\n",
    "def round_sig(x, sig=2):\n",
    "    \"\"\"\n",
    "    Returns number rounded to 2 significant figures\n",
    "    \"\"\"\n",
    "    return round(x, sig-int(floor(log10(abs(x))))-1)\n",
    "\n",
    "\n",
    "def search_and_count_chars(dictionary, lookup):\n",
    "    \"\"\"\n",
    "    Returns the count of characters in all dictionary values that contain the specified lookup regex string\n",
    "    \"\"\"\n",
    "\n",
    "    c = (sum(sum(len(re.findall(lookup,s)) for s in subList) for subList in dictionary.values()))\n",
    "    return c\n",
    "\n",
    "def rep_char_search(pdf_dict):\n",
    "    \"\"\"\n",
    "    Checks a parsed and cleaned pdf dictionary for remaining replacement characters. Does not modify the input.   \n",
    "    \"\"\"\n",
    "\n",
    "    replacement_characters = search_and_count_chars(pdf_dict, '�')\n",
    "    all_characters = search_and_count_chars(pdf_dict, r'[\\S]')\n",
    "    percent_non_readable = (100*replacement_characters/all_characters)\n",
    "    \n",
    "    if replacement_characters != 0:\n",
    "        warnings.warn(\"Warning! This document contains {0} non-readable characters: {1}% of the entire document.\".format(replacement_characters,round_sig(percent_non_readable,2)))\n",
    "              \n",
    "    return pdf_dict\n"
   ]
  },
  {
   "cell_type": "markdown",
   "id": "09e69cd8",
   "metadata": {},
   "source": [
    "### Testing Function "
   ]
  },
  {
   "cell_type": "code",
   "execution_count": 7,
   "id": "a417fbe8",
   "metadata": {},
   "outputs": [
    {
     "name": "stderr",
     "output_type": "stream",
     "text": [
      "/home/juliet_t/anaconda3/envs/env_full/lib/python3.6/site-packages/ipykernel_launcher.py:29: UserWarning: Warning! This document contains 85714 non-readable characters: 12.0% of the entire document.\n",
      "\n"
     ]
    }
   ],
   "source": [
    "fname = (\"/home/{0}/Aug21_Pivigo_S/data/raw/annual_reports/2020/{1}_Annual_Report_2020.pdf\".format('juliet_t','DCC'))\n",
    "\n",
    "pdf_dict = parse_file(fname)\n",
    "\n",
    "partially_cleaned = toy_clean(pdf_dict)\n",
    "\n",
    "partially_cleaned = rep_char_search(partially_cleaned)"
   ]
  },
  {
   "cell_type": "markdown",
   "id": "4b725c72",
   "metadata": {},
   "source": [
    "### Checking total occurences across entire dataset"
   ]
  },
  {
   "cell_type": "code",
   "execution_count": null,
   "id": "076c4c43",
   "metadata": {},
   "outputs": [],
   "source": [
    "# Iterating through every PDF to count instances of � replacement character, and total non-whitespace character count\n",
    "\n",
    "directory = (\"/home/{0}/Aug21_Pivigo_S/data/raw/annual_reports/2020\".format(\"juliet_t\"))\n",
    "filenames = []\n",
    "replacement_characters_present={}\n",
    "all_characters={}\n",
    "\n",
    "for filename in tqdm(os.listdir(directory)):\n",
    "    if filename.endswith(\".pdf\"):\n",
    "        filenames.append(filename)\n",
    "        doc=toy_clean(parse_file(directory+'//'+filename))\n",
    "        replacement_characters_present['{0}'.format(\" \".join(map(str,filename.split(\"_\")[:-3])))] = [search_and_count_chars(doc,'�'),search_and_count_chars(doc,r'[\\S]'),int(directory[-4:])]\n"
   ]
  },
  {
   "cell_type": "code",
   "execution_count": null,
   "id": "78d709c7",
   "metadata": {},
   "outputs": [],
   "source": [
    "def print_lst(dct):\n",
    "    \"\"\"\n",
    "    Just a nicer way of printing contents of dictionary.\n",
    "    \"\"\"\n",
    "    print(\"Instances:\")\n",
    "    dct=dict(sorted(dct.items(), key=lambda item: item[1], reverse=True))\n",
    "    for item, amount in dct.items():\n",
    "        print(\"{0} ({1})\".format(item, amount))\n",
    "\n",
    "# print_lst(replacement_characters_present)"
   ]
  },
  {
   "cell_type": "code",
   "execution_count": null,
   "id": "8f23019e",
   "metadata": {},
   "outputs": [],
   "source": [
    "# replacement_characters_present_2019 = dict(sorted(replacement_characters_present.items(), key=lambda item: item[1], reverse=True))\n",
    "\n",
    "# replacement_characters_present_2019"
   ]
  },
  {
   "cell_type": "code",
   "execution_count": null,
   "id": "d0176dd6",
   "metadata": {
    "scrolled": true
   },
   "outputs": [],
   "source": [
    "# replacement_characters_present_2020 = dict(sorted(replacement_characters_present.items(), key=lambda item: item[1], reverse=True))\n",
    "# replacement_characters_present_2020"
   ]
  },
  {
   "cell_type": "code",
   "execution_count": null,
   "id": "a299def7",
   "metadata": {},
   "outputs": [],
   "source": [
    "replacement_chars_2019 = pd.DataFrame.from_dict(replacement_characters_present_2019, orient='index', columns=['Replacement_Character_Count','Total_Character_Count','Year'])\n",
    "replacement_chars_2020 = pd.DataFrame.from_dict(replacement_characters_present_2020, orient='index', columns=['Replacement_Character_Count','Total_Character_Count','Year'])\n",
    "\n",
    "replacement_chars = pd.concat([replacement_chars_2019,replacement_chars_2020], axis=0)\n",
    "replacement_chars = replacement_chars.sort_values(by=['Replacement_Character_Count', 'Year'], ascending=False)\n",
    "\n",
    "replacement_chars['%_of_total_chars']=(100*replacement_chars['Replacement_Character_Count']/replacement_chars['Total_Character_Count'])"
   ]
  },
  {
   "cell_type": "code",
   "execution_count": null,
   "id": "c0d72662",
   "metadata": {},
   "outputs": [],
   "source": [
    "replacement_chars.head(n=25)"
   ]
  },
  {
   "cell_type": "markdown",
   "id": "6d8ccb6e",
   "metadata": {},
   "source": [
    "### Comparing string and character counts"
   ]
  },
  {
   "cell_type": "code",
   "execution_count": null,
   "id": "87211fef",
   "metadata": {},
   "outputs": [],
   "source": [
    "fname = (\"/home/{0}/Aug21_Pivigo_S/data/raw/annual_reports/2020/{1}_Annual_Report_2020.pdf\".format('juliet_t','Amazon'))\n",
    "\n",
    "pdf_dict = parse_file(fname)\n",
    "# partially_cleaned = toy_clean(pdf_dict)\n",
    "partially_cleaned = pdf_dict\n",
    "\n",
    "test_pn=22\n",
    "\n",
    "partially_cleaned[test_pn]"
   ]
  },
  {
   "cell_type": "code",
   "execution_count": null,
   "id": "d81b25d6",
   "metadata": {},
   "outputs": [],
   "source": [
    "def search_and_count(myDict, lookup):\n",
    "    \"\"\"\n",
    "    Returns the count of the number of strings in a dictionary containing the specified lookup\n",
    "    \"\"\"\n",
    "    c = (sum(sum(lookup in s for s in subList) for subList in myDict.values()))\n",
    "#     return print(\"Instances of '{0}' =\".format(lookup), c)\n",
    "    return c"
   ]
  },
  {
   "cell_type": "code",
   "execution_count": null,
   "id": "05fdf83e",
   "metadata": {},
   "outputs": [],
   "source": [
    "def search_and_count_chars(myDict, lookup):\n",
    "    \"\"\"\n",
    "    Returns the count of characters in all values of a dictionary that contain the specified lookup string\n",
    "    \"\"\"\n",
    "    \n",
    "    c = (sum(sum(len(re.findall(lookup,s)) for s in subList) for subList in myDict.values()))\n",
    "#     return print(\"Instances of '{0}' =\".format(lookup), c)\n",
    "    return c"
   ]
  },
  {
   "cell_type": "code",
   "execution_count": null,
   "id": "87d1b8e3",
   "metadata": {
    "scrolled": true
   },
   "outputs": [],
   "source": [
    "print(\"strings containing �:\",search_and_count(partially_cleaned, '�'))\n",
    "print(\"characters equal to �:\",search_and_count_chars(partially_cleaned, '�'))"
   ]
  },
  {
   "cell_type": "code",
   "execution_count": null,
   "id": "0f0d8e3f",
   "metadata": {},
   "outputs": [],
   "source": []
  }
 ],
 "metadata": {
  "kernelspec": {
   "display_name": "Python 3 (ipykernel)",
   "language": "python",
   "name": "python3"
  },
  "language_info": {
   "codemirror_mode": {
    "name": "ipython",
    "version": 3
   },
   "file_extension": ".py",
   "mimetype": "text/x-python",
   "name": "python",
   "nbconvert_exporter": "python",
   "pygments_lexer": "ipython3",
   "version": "3.8.10"
  }
 },
 "nbformat": 4,
 "nbformat_minor": 5
}
